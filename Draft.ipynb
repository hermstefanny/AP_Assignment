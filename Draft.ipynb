{
 "cells": [
  {
   "cell_type": "code",
   "execution_count": null,
   "id": "f4d28362",
   "metadata": {},
   "outputs": [],
   "source": [
    "!conda info\n"
   ]
  },
  {
   "cell_type": "code",
   "execution_count": null,
   "id": "9d432675",
   "metadata": {},
   "outputs": [],
   "source": [
    "!jt -l\n"
   ]
  },
  {
   "cell_type": "code",
   "execution_count": null,
   "id": "137f9b9f",
   "metadata": {},
   "outputs": [],
   "source": [
    "!jt -t gruvboxd"
   ]
  },
  {
   "cell_type": "code",
   "execution_count": null,
   "id": "b8883428",
   "metadata": {},
   "outputs": [],
   "source": [
    "# Creating Main Window\n",
    "main_window = tk.Tk()\n",
    "main_window.title(\"Main Window\")\n",
    "main_window.geometry(\"900x500\")\n",
    "main_window.resizable(True, True)\n",
    "\n",
    "\n",
    "# Left Canvas\n",
    "canvas_left = tk.Canvas(main_window, bg=\"GhostWhite\", width=600, height=500)\n",
    "canvas_left.grid(row=0, column=0, sticky=\"nsew\")\n",
    "\n",
    "image_bck = PhotoImage(file=\"ed-howell-flow-graph_sm.png\")\n",
    "\n",
    "image_id = canvas_left.create_image(\n",
    "    canvas_left.winfo_reqwidth() // 2,\n",
    "    canvas_left.winfo_reqheight() // 2,\n",
    "    image=image_bck,\n",
    ")\n",
    "\n",
    "text_id = canvas_left.create_text(\n",
    "    canvas_left.winfo_reqwidth() // 2,\n",
    "    4 * canvas_left.winfo_reqheight() // 5,\n",
    "    text=\"This is a product developed by Student S.A. All rights reserved\",\n",
    "    font=(\"Arial\", 8),\n",
    "    fill=\"white\",\n",
    ")\n",
    "\n",
    "# Right Canvas\n",
    "canvas_right = tk.Canvas(\n",
    "    main_window,\n",
    "    bg=main_colour,\n",
    "    width=300,\n",
    "    height=500,\n",
    ")\n",
    "canvas_right.grid(row=0, column=1, sticky=\"nsew\")\n",
    "\n",
    "# Add text objects on the right canvas\n",
    "text1_id = canvas_right.create_text(\n",
    "    2*canvas_right.winfo_reqwidth() // 7,\n",
    "    5 * canvas_right.winfo_reqheight() // 15,\n",
    "    text=\"Parameters Data File\",\n",
    "    font=(\"Arial\", 12),\n",
    ")\n",
    "\n",
    "open_file_1_button = tk.Button(canvas_right, text=\"Select File 1\", command=select_file)\n",
    "open_file_1_button.place(\n",
    "    x=(5*canvas_right.winfo_reqwidth() // 7),\n",
    "    y=(6 * canvas_right.winfo_reqheight() // 15),\n",
    ")\n",
    "\n",
    "text2_id = canvas_right.create_text(\n",
    "    canvas_right.winfo_reqwidth() // 7,\n",
    "    9 * canvas_right.winfo_reqheight() // 15,\n",
    "    text=\"Antenna Data File\",\n",
    "    font=(\"Arial\", 12),\n",
    ")\n",
    "\n",
    "open_file_2_button = tk.Button(\n",
    "    canvas_right,\n",
    "    text=\"Select File 2\",\n",
    "    command=select_file,\n",
    ")\n",
    "open_file_2_button.place(\n",
    "    x=(canvas_right.winfo_reqwidth() // 7),\n",
    "    y=(10 * canvas_right.winfo_reqheight() // 15),\n",
    ")\n",
    "\n",
    "# Create a button on the right canvas\n",
    "load_button = tk.Button(\n",
    "    canvas_right,\n",
    "    text=\"Load\",\n",
    "    command=on_button_click,\n",
    "    background=\"white\",\n",
    "    foreground=\"black\",\n",
    "    activebackground=\"lightgrey\",\n",
    "    width=13,\n",
    "    height=1,\n",
    "    border=1,\n",
    "    font=(\"Arial\", 9, \"bold\"),\n",
    ")\n",
    "\n",
    "load_button.place(\n",
    "    x=(2 * canvas_right.winfo_reqwidth() // 5),\n",
    "    y=(12 * canvas_right.winfo_reqheight() // 15),\n",
    ")\n",
    "\n",
    "# rows\n",
    "main_window.grid_rowconfigure(0, weight=1)\n",
    "\n",
    "# columns\n",
    "main_window.grid_columnconfigure(0, weight=1)\n",
    "main_window.grid_columnconfigure(1, weight=1)\n",
    "\n",
    "main_window.update_idletasks()"
   ]
  },
  {
   "cell_type": "code",
   "execution_count": null,
   "id": "708de51e",
   "metadata": {},
   "outputs": [],
   "source": [
    "def select_file():\n",
    "    filetypes = (\n",
    "        ('Data Files', '*.csv'),\n",
    "        #('All files', '*.*')\n",
    "    )\n",
    "\n",
    "    filename = fd.askopenfilename(\n",
    "        title='Open a file',\n",
    "        initialdir='/',\n",
    "        filetypes=filetypes)\n",
    "\n",
    "    showinfo(\n",
    "        title='Selected File',\n",
    "        message= 'File not selected' \n",
    "    )\n"
   ]
  },
  {
   "cell_type": "code",
   "execution_count": null,
   "id": "566654ab",
   "metadata": {},
   "outputs": [],
   "source": [
    "# # Convert Raw Data a Structureds  JSON\n",
    "# Parameter Raw Data a Structured JSON\n",
    "\n",
    "def save_parameter_data(df): \n",
    "    global dict_parameter \n",
    "    dict_parameter = {}\n",
    "    services_dict = {}\n",
    "    dservices_dict = {}\n",
    "    for index in df.index: \n",
    "        for i in range(31):\n",
    "            key = df.loc[index, f'SId {i+1} (Hex)']\n",
    "            print(f'for  INDEX  {index}: The KEY in in this indesxx es {key} AND ITS TYPE IS {type(key)} ')\n",
    "            if not key == '':\n",
    "                services_dict[key] = {\n",
    "                'ServID': df.loc[index,f'SId {i+1} (Hex)'],\n",
    "                'Label': df.loc[index,f'Serv Label{i+1} '],\n",
    "                'LSN': df.loc[index,f'LSN {i+1} (Hex)'] \n",
    "                }\n",
    "        for i in range(14):\n",
    "            key = df.loc[index, f'Data SId {i+1} (Hex)']\n",
    "            if not key == '':\n",
    "                dservices_dict[key] = {\n",
    "                'DServID':df.loc[index, f'Data SId {i+1} (Hex)'],\n",
    "                'Data Service Label':df.loc[index, f'Data Serv Label{i+1}'],\n",
    "                }\n",
    "    for index in df.index: \n",
    "        dict_parameter[df.loc[index, 'id']] ={\n",
    "            'ID': df.loc[index, 'id'],\n",
    "            'Date': df.loc[index, 'Date'],\n",
    "            'Ensemble ID': df.loc[index, 'EID'],\n",
    "            'Ensemble': df.loc[index, 'Ensemble'],\n",
    "            'Ensemble Area': df.loc[index, 'Ensemble Area'],\n",
    "            'Licence': df.loc[index, 'Licence'],\n",
    "            'Transmitter Area': df.loc[index, 'Transmitter Area'],\n",
    "            'Site': df.loc[index, 'Site'],\n",
    "            'Frequency': df.loc[index, 'Freq.'],\n",
    "            'Block': df.loc[index, 'Block'],\n",
    "            'TII Main ID': df.loc[index, 'TII Main Id (Hex)'],\n",
    "            'TII Sub ID': df.loc[index, 'TII Sub Id (Hex)'],\n",
    "            #'Services': services_dict,\n",
    "            #'Data Services': dservices_dict\n",
    "        }\n",
    "\n",
    "    print(\"\\n\\nRe-estructuring Parameter Data dictionary\")\n",
    "    first_key = next(iter(dict_parameter))\n",
    "    first_value = next(iter(dict_parameter.values()))\n",
    "    print(\"\\nPrinting the first element of Parameter Data\")\n",
    "    pprint(first_key)\n",
    "    pprint(first_value)\n",
    "    \n",
    "    #Creating a JSON dictionary         \n",
    "    with open(\"Parameter_structured_data.json\", \"w\") as outfile:\n",
    "        json.dump(dict_parameter, outfile)"
   ]
  },
  {
   "cell_type": "code",
   "execution_count": null,
   "id": "80adb7e8",
   "metadata": {},
   "outputs": [],
   "source": [
    "outer_service_columns =[]\n",
    "inner_service_columns =[]\n",
    "\n",
    "for i in range(32):\n",
    "    outer_service_columns.append('Services')\n",
    "    outer_service_columns.append('Services')\n",
    "    outer_service_columns.append('Services')\n",
    "    inner_service_columns.append(f'Serv Label {i+1}')\n",
    "    inner_service_columns.append(f'SId {i+1} (Hex)')\n",
    "    inner_service_columns.append(f'LSN {i+1} (Hex)')\n",
    "\n",
    "print(outer_service_columns)\n",
    "print(inner_service_columns)\n",
    "print(len(outer_service_columns))\n",
    "print(len(inner_service_columns))"
   ]
  },
  {
   "cell_type": "code",
   "execution_count": null,
   "id": "5c6a4ed1",
   "metadata": {},
   "outputs": [],
   "source": [
    "outer_dservice_columns =[]\n",
    "inner_dservice_columns =[]\n",
    "\n",
    "for i in range(15):\n",
    "    outer_dservice_columns.append('Data Services')\n",
    "    outer_dservice_columns.append('Data Services')\n",
    "    inner_dservice_columns.append(f'Data Serv Label {i+1}')\n",
    "    inner_dservice_columns.append( f'Data Serv ID {i+1} (Hex)')\n",
    "\n",
    "print(outer_dservice_columns)\n",
    "print(inner_dservice_columns)\n",
    "print(len(outer_dservice_columns))\n",
    "print(len(inner_dservice_columns))"
   ]
  },
  {
   "cell_type": "code",
   "execution_count": null,
   "id": "fbc9e465",
   "metadata": {},
   "outputs": [],
   "source": [
    "parameter_outer_columns = ['id', 'Date','Ensemble', 'Licence', 'Ensemble Area', 'Ensemble ID', 'Transmitter', 'Site', 'Frequency', 'Block', 'TII Main ID', 'TII Sub, ID' ]\n",
    "parameter_inner_columns = [None, None, None, None, None, None, None, None, None, None, None, None ]"
   ]
  },
  {
   "cell_type": "code",
   "execution_count": null,
   "id": "a9f77705",
   "metadata": {},
   "outputs": [],
   "source": [
    "parameter_outer_columns = parameter_outer_columns + outer_service_columns + outer_dservice_columns \n",
    "parameter_inner_columns = parameter_inner_columns + inner_service_columns + inner_dservice_columns"
   ]
  },
  {
   "cell_type": "code",
   "execution_count": null,
   "id": "a7dae5fc",
   "metadata": {},
   "outputs": [],
   "source": [
    "print(parameter_outer_columns)\n",
    "print(len(parameter_outer_columns))\n",
    "print(parameter_inner_columns)\n",
    "print(len(parameter_inner_columns))"
   ]
  },
  {
   "cell_type": "code",
   "execution_count": null,
   "id": "81b81d41",
   "metadata": {},
   "outputs": [],
   "source": [
    "total_parameters_columns = [parameter_outer_columns, parameter_inner_columns]"
   ]
  },
  {
   "cell_type": "code",
   "execution_count": null,
   "id": "d8e0f30e",
   "metadata": {},
   "outputs": [],
   "source": [
    "import pandas as pd\n",
    "import numpy as np\n",
    "\n",
    "parameters_raw = pd.read_csv('Data sets\\TxParamsDAB.csv', encoding='latin-1', na_values = np.nan)\n",
    "antenna_raw = pd.read_csv('Data sets\\TxAntennaDAB.csv', encoding='latin-1', na_values = np.nan)"
   ]
  },
  {
   "cell_type": "code",
   "execution_count": null,
   "id": "6ee79c19",
   "metadata": {},
   "outputs": [],
   "source": [
    "parameters_raw = parameters_raw.set_index('id')\n",
    "antenna_raw = antenna_raw.set_index('id')"
   ]
  },
  {
   "cell_type": "code",
   "execution_count": null,
   "id": "775f8fef",
   "metadata": {},
   "outputs": [],
   "source": [
    "parameters_raw.head()"
   ]
  },
  {
   "cell_type": "code",
   "execution_count": null,
   "id": "f6579a70",
   "metadata": {},
   "outputs": [],
   "source": [
    "df = parameters_raw"
   ]
  },
  {
   "cell_type": "code",
   "execution_count": null,
   "id": "fc445086",
   "metadata": {},
   "outputs": [],
   "source": [
    "dfa =antenna_raw"
   ]
  },
  {
   "cell_type": "code",
   "execution_count": null,
   "id": "efcf568e",
   "metadata": {},
   "outputs": [],
   "source": [
    "# Cleaning Parameters Data\n",
    "for index in df.index:\n",
    "    print(index)\n",
    "\n",
    "for column in df:\n",
    "    value = (df[column].values)\n",
    "    print(f'The value of the cell named {column} is {value[17]} and its type is {type(value[17])}')\n"
   ]
  },
  {
   "cell_type": "code",
   "execution_count": null,
   "id": "bf59f0da",
   "metadata": {},
   "outputs": [],
   "source": [
    "df = df.replace(np.nan, np.nan)"
   ]
  },
  {
   "cell_type": "code",
   "execution_count": null,
   "id": "f750ce1e",
   "metadata": {},
   "outputs": [],
   "source": [
    "df['Date'] = pd.to_datetime(df['Date']).dt.date"
   ]
  },
  {
   "cell_type": "code",
   "execution_count": null,
   "id": "54d282f5",
   "metadata": {},
   "outputs": [],
   "source": [
    "df.loc[746171, ['Date']]"
   ]
  },
  {
   "cell_type": "code",
   "execution_count": null,
   "id": "b520d2d0",
   "metadata": {},
   "outputs": [],
   "source": [
    "duplicate_rows_parameter = parameters_raw[parameters_raw.duplicated()]\n",
    "print(\"Duplicate Rows in parameters:\\n\")\n",
    "print(duplicate_rows_parameter)"
   ]
  },
  {
   "cell_type": "code",
   "execution_count": null,
   "id": "fa91c8d6",
   "metadata": {},
   "outputs": [],
   "source": [
    "#Format in Site \n",
    "df['Site'] = df['Site'].str.title()\n"
   ]
  },
  {
   "cell_type": "code",
   "execution_count": null,
   "id": "9c996ebc",
   "metadata": {},
   "outputs": [],
   "source": [
    "import dataframecleaner as dfc"
   ]
  },
  {
   "cell_type": "code",
   "execution_count": null,
   "id": "52df4869",
   "metadata": {},
   "outputs": [],
   "source": [
    "new_columns =['NGR', 'Longitude/Latitude', 'Long', 'Lat', 'Site Height',\n",
    "            'In-Use Ae Ht','In-Use ERP Total','Dir Max ERP', \n",
    "            '0','10','20','30','40','50','60','70','80','90',\n",
    "            '100','110','120','130','140','150','160','170','180','190',\n",
    "            '200','210','220','230','240','250','260','270','280','290',\n",
    "            '300','310','320','330','340','350' ]"
   ]
  },
  {
   "cell_type": "code",
   "execution_count": null,
   "id": "3511cdf9",
   "metadata": {},
   "outputs": [],
   "source": [
    "dfa = dfa[new_columns]"
   ]
  },
  {
   "cell_type": "code",
   "execution_count": null,
   "id": "23a1376b",
   "metadata": {},
   "outputs": [],
   "source": [
    "# Cleaning Parameters Data\n",
    "for index in dfa.index:\n",
    "    print(index)\n",
    "\n",
    "for column in dfa:\n",
    "    value = (dfa[column].values)\n",
    "    print(f'The value of the cell named {column} is {value[23]} and its type is {type(value[23])}')"
   ]
  },
  {
   "cell_type": "code",
   "execution_count": null,
   "id": "ebf06449",
   "metadata": {},
   "outputs": [],
   "source": [
    "#In-Use ERP \n",
    "new_values = [ ]\n",
    "dfa['In-Use ERP Total'] = dfa['In-Use ERP Total'].replace(np.nan, '0')\n",
    "dfa['In-Use ERP Total'] = dfa['In-Use ERP Total'].str.replace('.', '')\n",
    "dfa['In-Use ERP Total'] = dfa['In-Use ERP Total'].str.replace(',', '.').astype(float)\n"
   ]
  },
  {
   "cell_type": "code",
   "execution_count": null,
   "id": "a88adda6",
   "metadata": {},
   "outputs": [],
   "source": [
    "print(dfa['In-Use ERP Total'])"
   ]
  },
  {
   "cell_type": "code",
   "execution_count": null,
   "id": "16c6b108",
   "metadata": {},
   "outputs": [],
   "source": [
    "dfa.head()"
   ]
  },
  {
   "cell_type": "code",
   "execution_count": null,
   "id": "4a98c795",
   "metadata": {},
   "outputs": [],
   "source": [
    "duplicate_rows_antenna = antenna_raw[antenna_raw.duplicated()]\n",
    "print(\"Duplicate Rows in antenna:\\n\")\n",
    "print(duplicate_rows_antenna)\n",
    "indexes_to_drop = test_dfa[test_dfa['NGR'].isin(NGR_to_drop)].index\n",
    "parameters_wo_NGR = test_df.drop(indexes_to_drop)\n",
    "antenna_wo_NGR = test_dfa.drop(indexes_to_drop)"
   ]
  },
  {
   "cell_type": "code",
   "execution_count": null,
   "id": "e18a52e6",
   "metadata": {},
   "outputs": [],
   "source": [
    "radio_data_sel['Date'] = pd.to_datetime(radio_data_sel['Date'], dayfirst=True).dt.strftime('%Y-%m-%d')\n",
    "dfa.to_json(r'C:\\Users\\herms\\Formative_Assignment\\saved_antenna_table.json', orient ='index')"
   ]
  },
  {
   "cell_type": "code",
   "execution_count": null,
   "id": "7fa4ed59",
   "metadata": {},
   "outputs": [],
   "source": [
    "df.rename(columns={'Long': 'Longitude (Decimal)', \n",
    "                   'Lat': 'Latitude (Decimal)',\n",
    "                   'In-Use Ae Ht': 'Aerial Height(m)',\n",
    "                   'In-Use ERP Total': 'Power(kW)'})"
   ]
  },
  {
   "cell_type": "code",
   "execution_count": null,
   "id": "f131f530",
   "metadata": {},
   "outputs": [],
   "source": [
    "NGR_to_drop = ['TF 6267 2032', 'SO24411270', 'NT23338724','SU87709110']\n",
    "new_value = 'TQ29689006'\n",
    "NGR_to_drop.append(new_value)"
   ]
  },
  {
   "cell_type": "code",
   "execution_count": null,
   "id": "71c082db",
   "metadata": {},
   "outputs": [],
   "source": [
    "test_df  = pd.read_json('saved_parameter.json', encoding='latin-1', orient ='index')\n",
    "test_dfa = pd.read_json('saved_antenna.json', encoding='latin-1', orient ='index')"
   ]
  },
  {
   "cell_type": "code",
   "execution_count": null,
   "id": "b8fd6abd",
   "metadata": {},
   "outputs": [],
   "source": [
    "test_df = parameters_raw\n",
    "test_dfa = antenna_raw"
   ]
  },
  {
   "cell_type": "code",
   "execution_count": null,
   "id": "193430ac",
   "metadata": {},
   "outputs": [],
   "source": [
    "print(test_df)"
   ]
  },
  {
   "cell_type": "code",
   "execution_count": null,
   "id": "144165b5",
   "metadata": {},
   "outputs": [],
   "source": [
    "# EID C18A, C18F, C188\n",
    "EID_list =['C18A', 'C18F', 'C188']\n",
    "DAB_selected = test_df[test_df ['EID'].isin(EID_list)]"
   ]
  },
  {
   "cell_type": "code",
   "execution_count": null,
   "id": "e6943be4",
   "metadata": {},
   "outputs": [],
   "source": [
    "DAB_selected"
   ]
  },
  {
   "cell_type": "code",
   "execution_count": null,
   "id": "4ed450f9",
   "metadata": {},
   "outputs": [],
   "source": [
    "DAB_selected_indexes = DAB_selected.index"
   ]
  },
  {
   "cell_type": "code",
   "execution_count": null,
   "id": "00e4f99b",
   "metadata": {},
   "outputs": [],
   "source": [
    "antenna_selected = test_dfa.loc[DAB_selected_indexes]"
   ]
  },
  {
   "cell_type": "code",
   "execution_count": null,
   "metadata": {},
   "outputs": [],
   "source": [
    "antenna_selected =antenna_selected.rename(columns={'Long': 'Longitude (Decimal)', \n",
    "                   'Lat': 'Latitude (Decimal)',\n",
    "                   'In-Use Ae Ht': 'Aerial Height(m)',\n",
    "                   'In-Use ERP Total': 'Power(kW)'})"
   ]
  },
  {
   "cell_type": "code",
   "execution_count": null,
   "id": "8d41c4fd",
   "metadata": {},
   "outputs": [],
   "source": [
    "radio_data_selected = pd.merge(DAB_selected, antenna_selected, left_index = True, right_index =True)"
   ]
  },
  {
   "cell_type": "code",
   "execution_count": null,
   "id": "edbb346d",
   "metadata": {},
   "outputs": [],
   "source": [
    "radio_data_selected"
   ]
  },
  {
   "cell_type": "code",
   "execution_count": null,
   "id": "946e5557",
   "metadata": {},
   "outputs": [],
   "source": [
    "print(radio_data_selected)"
   ]
  },
  {
   "cell_type": "code",
   "execution_count": null,
   "id": "f1486c41",
   "metadata": {},
   "outputs": [],
   "source": [
    "\n",
    "import matplotlib.pyplot as plt\n",
    "import seaborn as sns\n"
   ]
  },
  {
   "cell_type": "code",
   "execution_count": null,
   "id": "522d4736",
   "metadata": {},
   "outputs": [],
   "source": [
    "#colors\n",
    "main_colour = '#8991DF'\n",
    "colour2 = '#377FA5'\n",
    "colour3 = '#4650B3'\n",
    "colour4 = '#891A99'"
   ]
  },
  {
   "cell_type": "code",
   "execution_count": null,
   "id": "25ab1a73",
   "metadata": {},
   "outputs": [],
   "source": [
    "palette = [main_colour, colour2, colour3, colour4]"
   ]
  },
  {
   "cell_type": "code",
   "execution_count": null,
   "id": "5fbbd260",
   "metadata": {},
   "outputs": [],
   "source": [
    "def get_correlation(df):\n",
    "\n",
    "    correlation_data_df = df[['Block', 'Serv Label1 ', 'Serv Label2 ', 'Serv Label3 ', 'Serv label4 ', 'Serv Label10 ']]\n",
    "    \n"
   ]
  },
  {
   "cell_type": "code",
   "execution_count": null,
   "id": "832a5600",
   "metadata": {},
   "outputs": [],
   "source": [
    "#if there is any ‘Freq’, ‘Block’, ‘Serv Label1’, ‘Serv Label2’, ‘Serv Label3’, ‘Serv label4’,’Serv Label10’ \n",
    "correlation_data_df = radio_data_selected[['Freq.','Block', 'Serv Label1 ', 'Serv Label2 ', 'Serv Label3 ', 'Serv Label4 ', 'Serv Label10 ']]\n",
    "correlation_data_df"
   ]
  },
  {
   "cell_type": "code",
   "execution_count": null,
   "id": "3480132b",
   "metadata": {},
   "outputs": [],
   "source": [
    "data = {\n",
    "    'Freq.': [229.072, 229.072, 220.352, 220.352],\n",
    "    'Block': ['12D', '12D', '11C', '11C'],\n",
    "    'Serv Label1 ': ['Forth One', 'Forth One', 'METRO Radio', 'METRO Radio'],\n",
    "    'Serv Label2 ': ['FORTH 2', 'FORTH 2', 'Grt Hits N East', 'Grt Hits N East'],\n",
    "    'Serv Label3 ': ['Heart', 'Heart', 'Smooth Radio', 'Smooth Radio'],\n",
    "    'Serv Label4 ': ['HITS RADIO UK', 'HITS RADIO UK', 'HITS RADIO UK', 'HITS RADIO UK'],\n",
    "    'Serv Label10 ': ['Magic Soul', 'Magic Soul', 'Magic Soul', 'Magic Soul'],\n",
    "}\n"
   ]
  },
  {
   "cell_type": "code",
   "execution_count": null,
   "id": "29390332",
   "metadata": {},
   "outputs": [],
   "source": [
    "import numpy as np\n",
    "import pandas as pd\n",
    "import seaborn as sns\n",
    "import matplotlib.pyplot as plt"
   ]
  },
  {
   "cell_type": "code",
   "execution_count": null,
   "id": "7dd77702",
   "metadata": {},
   "outputs": [],
   "source": [
    "df = pd.read_json(r'C:\\Users\\herms\\Formative_Assignment\\intercambio.json',encoding='latin-1', orient ='index')\n"
   ]
  },
  {
   "cell_type": "code",
   "execution_count": null,
   "id": "7845da1f",
   "metadata": {},
   "outputs": [],
   "source": []
  },
  {
   "cell_type": "code",
   "execution_count": null,
   "id": "d07ab949",
   "metadata": {},
   "outputs": [],
   "source": []
  },
  {
   "cell_type": "code",
   "execution_count": null,
   "id": "0706b6a8",
   "metadata": {},
   "outputs": [],
   "source": [
    "def get_correlation(df):\n",
    "\n",
    "    def compute_chi_squared(df_cross_tab):\n",
    "        expected_cross_tab = df_cross_tab.copy()\n",
    "        totals_cross_tab = df_cross_tab.copy()\n",
    "        totals_cross_tab.index = list(df_cross_tab.sum(axis=1))\n",
    "        totals_cross_tab.columns = list(df_cross_tab.sum(axis=0))\n",
    "        total_tabs = totals_cross_tab.sum().sum()\n",
    "\n",
    "        for i, (row_total, row) in enumerate(totals_cross_tab.iterrows(), start=0):\n",
    "            for j, (col_total, value) in enumerate(row.items(), start=0):\n",
    "                expected_val = (col_total*row_total)/total_tabs\n",
    "                #print(f'Col_Total = {col_total} * Row_Total = {row_total} Expected = {expected_val}')\n",
    "                expected_cross_tab.iat[i, j] = expected_val\n",
    "                #print(f'j is{j}')\n",
    "            #print(i)\n",
    "        chi_sq = ((df_cross_tab.sub(expected_cross_tab, fill_value=0))**2/expected_cross_tab).sum().sum()\n",
    "        return chi_sq\n",
    "\n",
    "    def compute_cramers_v(table, chi_sq):\n",
    "        n = table.sum().sum()\n",
    "        phi_sq = chi_sq / n\n",
    "        r, k = table.shape\n",
    "        phi_sq_corr = max(0, phi_sq  - ((k - 1) * (r - 1)) / (n - 1))\n",
    "        r_corr = r - ((r - 1) ** 2) / (n - 1)\n",
    "        k_corr = k - ((k - 1) ** 2) / (n - 1)\n",
    "        cramers_v = np.sqrt(phi_sq_corr / min((k_corr - 1), (r_corr - 1)))\n",
    "        return cramers_v\n",
    "\n",
    "    #Matrix Calculation\n",
    "    categorical_columns = df.columns\n",
    "    correlation_matrix = pd.DataFrame(index=categorical_columns, columns=categorical_columns)\n",
    "    for col1 in categorical_columns:\n",
    "        for col2 in categorical_columns:\n",
    "            cross_tab = pd.crosstab(index=df[col1], columns=df[col2])\n",
    "            #print(cross_tabs[f\"{col1} vs {col2}\"])\n",
    "            chi_sq = compute_chi_squared(cross_tab)\n",
    "            cramers_v = compute_cramers_v(cross_tab, chi_sq)\n",
    "            correlation_matrix.at[col1, col2] = cramers_v \n",
    "\n",
    "    # Create a heatmap\n",
    "    plt.figure(figsize=(10, 8))\n",
    "    sns.heatmap(correlation_matrix.astype(float), annot=True, cmap='vlag')\n",
    "    plt.title('Categorical Variable Correlation Heatmap')\n",
    "    plt.show()"
   ]
  },
  {
   "cell_type": "code",
   "execution_count": null,
   "id": "6dfb9eea",
   "metadata": {},
   "outputs": [],
   "source": [
    "get_correlation(df)"
   ]
  },
  {
   "cell_type": "code",
   "execution_count": null,
   "id": "0048c130",
   "metadata": {},
   "outputs": [],
   "source": [
    "for column, cross_tab in cross_tabs.items():\n",
    "    print(f\"Cross-tabulation for {column}:\\n\")\n",
    "    print(cross_tab)\n",
    "    print(\"\\n\")"
   ]
  },
  {
   "cell_type": "code",
   "execution_count": null,
   "id": "a2bfd2a6",
   "metadata": {},
   "outputs": [],
   "source": [
    "new_ejemplo = ejemplo.copy()"
   ]
  },
  {
   "cell_type": "code",
   "execution_count": null,
   "id": "c576d7bc",
   "metadata": {},
   "outputs": [],
   "source": [
    "new_ejemplo.index  = list(new_ejemplo.sum(axis=1))"
   ]
  },
  {
   "cell_type": "code",
   "execution_count": null,
   "id": "3bbed5c6",
   "metadata": {},
   "outputs": [],
   "source": [
    "new_ejemplo.columns = list(new_ejemplo.sum(axis=0))"
   ]
  },
  {
   "cell_type": "code",
   "execution_count": null,
   "id": "2fddfa0b",
   "metadata": {},
   "outputs": [],
   "source": [
    "new_ejemplo"
   ]
  },
  {
   "cell_type": "code",
   "execution_count": null,
   "id": "23461a60",
   "metadata": {},
   "outputs": [],
   "source": [
    "total=new_ejemplo.sum().sum()"
   ]
  },
  {
   "cell_type": "code",
   "execution_count": null,
   "id": "14e26fca",
   "metadata": {},
   "outputs": [],
   "source": [
    "total"
   ]
  },
  {
   "cell_type": "code",
   "execution_count": null,
   "id": "a09a1523",
   "metadata": {},
   "outputs": [],
   "source": [
    "expected_df = ejemplo.copy()\n",
    "\n",
    "for i, (row_total, row) in enumerate(new_ejemplo.iterrows(), start=0):\n",
    "    for j, (col_total, value) in enumerate(row.items(), start=0):\n",
    "        expected_val = (col_total*row_total)/total\n",
    "        print(f'Col_Total = {col_total} * Row_Total = {row_total} Expected = {expected_val}')\n",
    "        expected_df.iat[i, j]=expected_val\n",
    "        print(f'j is{j}')\n",
    "    print(i)\n",
    "     \n",
    "        \n",
    "  \n",
    "\n",
    "        "
   ]
  },
  {
   "cell_type": "code",
   "execution_count": null,
   "id": "61133e5e",
   "metadata": {},
   "outputs": [],
   "source": [
    "result_minus = ejemplo.sub(expected_df, fill_value=0)\n",
    "((result_minus)**2/expected_df).sum().sum()"
   ]
  },
  {
   "cell_type": "code",
   "execution_count": null,
   "id": "b8e426ea",
   "metadata": {},
   "outputs": [],
   "source": [
    "((result_minus)**2/expected_df).sum().sum()"
   ]
  },
  {
   "cell_type": "code",
   "execution_count": null,
   "id": "fccbaeb1",
   "metadata": {},
   "outputs": [],
   "source": [
    "for index in new_ejemplo:\n",
    "    print(f'index {index}' )\n",
    "\n",
    "for column in new_ejemplo: \n",
    "    print(f'column {column}' )\n",
    "       "
   ]
  },
  {
   "cell_type": "code",
   "execution_count": null,
   "id": "9a96c04f",
   "metadata": {},
   "outputs": [],
   "source": [
    "grand_total = ex_vis.sum(axis=0).sum()"
   ]
  },
  {
   "cell_type": "code",
   "execution_count": null,
   "id": "8e71e6ac",
   "metadata": {},
   "outputs": [],
   "source": [
    "def cramers_v(df, axis_x_name, axis_y_name):\n",
    "    chi2 = pd.crosstab(index=df[axis_x_name], columns=df[axis_y_name])\n",
    "    n = chi2.sum()\n",
    "    r, k = chi2.shape\n",
    "    chi2corr = chi2 / n\n",
    "    r_corr = np.sum(chi2corr, axis=1)\n",
    "    k_corr = np.sum(chi2corr, axis=0)\n",
    "    expected = np.outer(r_corr, k_corr)\n",
    "    chi2s = (chi2 - expected) ** 2 / expected\n",
    "    print(np.sum(chi2s))\n",
    "    cramers_v = np.sqrt(np.sum(chi2s) / (n * min(k - 1, r - 1)))\n",
    "    return cramers_v\n",
    "\n",
    "\n",
    "# Calculate Cramér's V for the desired columns\n",
    "cramers_value_sl1_sl2 = cramers_v(df, 'Serv Label1 ', 'Serv Label2 ')\n",
    "cramers_value_freq_block = cramers_v(df, 'Freq.', 'Block')\n",
    "\n",
    "print(f\"\\n\\nCramér's V: {cramers_value_freq_block}\")\n",
    "\n"
   ]
  },
  {
   "cell_type": "code",
   "execution_count": null,
   "id": "094eb9c8",
   "metadata": {},
   "outputs": [],
   "source": [
    "cor = correlation_data_df.corr()"
   ]
  },
  {
   "cell_type": "code",
   "execution_count": null,
   "id": "dd880909",
   "metadata": {},
   "outputs": [],
   "source": [
    "print(cor)"
   ]
  },
  {
   "cell_type": "code",
   "execution_count": null,
   "id": "02f89d8c",
   "metadata": {},
   "outputs": [],
   "source": [
    "def graph_window(df)\n",
    "#Formatting\n",
    "graph_data_df = df[['EID', 'Ensemble', 'Site', 'Freq.', 'Block', 'Serv Label1 ', 'Serv Label2 ', 'Serv Label4 ', 'Serv Label5 ']]\n",
    "graph_data_df['Site'] = graph_data_df['Site'].str.title()\n",
    "graph_data_df = graph_data_df.rename(columns={'Freq.':'Frequency','Serv Label1 ': 'Service Label 1', 'Serv Label2 ': 'Service Label 2', 'Serv Label4 ': 'Service Label 4', 'Serv Label5 ':'Service Label 5'})\n",
    "\n",
    "#Graphic with Seaborn\n"
   ]
  },
  {
   "cell_type": "code",
   "execution_count": null,
   "id": "080ba3e3",
   "metadata": {},
   "outputs": [],
   "source": [
    "df=radio_data_selected"
   ]
  },
  {
   "cell_type": "code",
   "execution_count": null,
   "id": "9562f936",
   "metadata": {},
   "outputs": [],
   "source": [
    "graph_data_df = graph_data_df.rename(columns={'Site':'Sites'})\n",
    "\n",
    "#Table for grouping by EID\n",
    "grouped_by_EID = graph_data_df.groupby('EID').agg({\n",
    "    'Ensemble': 'first',\n",
    "    'Service Label 1': 'first',\n",
    "    'Service Label 2': 'first',\n",
    "    'Service Label 4': 'first',\n",
    "    'Service Label 5': 'first',\n",
    "    'Sites': 'unique',  # Gets unique values as a list\n",
    "}).reset_index()\n",
    "grouped_by_EID = grouped_by_EID.set_index('EID') \n",
    "\n",
    "#Table for grouping by Block/Frequency\n",
    "grouped_by_block = graph_data_df.groupby('Block').agg({\n",
    "    'Frequency': 'first', \n",
    "    'Sites': 'unique',  # Gets unique values as a list\n",
    "}).reset_index()\n",
    "grouped_by_block = grouped_by_block.set_index('Block')"
   ]
  },
  {
   "cell_type": "code",
   "execution_count": null,
   "id": "2ef2bff6",
   "metadata": {},
   "outputs": [],
   "source": [
    "for item in grouped_by_EID['Site']:\n",
    "    print(item)"
   ]
  },
  {
   "cell_type": "code",
   "execution_count": null,
   "id": "4c33b015",
   "metadata": {},
   "outputs": [],
   "source": [
    "for item in grouped_by_block['Site']:\n",
    "    print(item )"
   ]
  },
  {
   "cell_type": "code",
   "execution_count": null,
   "id": "caa9f214",
   "metadata": {},
   "outputs": [],
   "source": [
    "radio_data_selected[['EID', 'NGR', 'Site', 'Site Height', 'Aerial Height(m)', 'Power(kW)']]"
   ]
  },
  {
   "cell_type": "code",
   "execution_count": null,
   "id": "180cffd5",
   "metadata": {},
   "outputs": [],
   "source": [
    "radio_data_selected['Power(kW)']"
   ]
  },
  {
   "cell_type": "code",
   "execution_count": null,
   "id": "7cbe48e7",
   "metadata": {},
   "outputs": [],
   "source": [
    "radio_data_selected['Date'].dt.year\n"
   ]
  },
  {
   "cell_type": "code",
   "execution_count": null,
   "id": "a02fde38",
   "metadata": {},
   "outputs": [],
   "source": [
    "radio_data_selected.loc[radio_data_selected['Date'].dt.year.gt(entered_date)]"
   ]
  },
  {
   "cell_type": "code",
   "execution_count": null,
   "id": "c8e49707",
   "metadata": {},
   "outputs": [],
   "source": [
    "power_by_date = radio_data_selected.loc[radio_data_selected['Date'].dt.year.gt(entered_date),'Power(kW)']"
   ]
  },
  {
   "cell_type": "code",
   "execution_count": null,
   "id": "d319c197",
   "metadata": {},
   "outputs": [],
   "source": [
    "option_height = 'great' #'less' #'equal'"
   ]
  },
  {
   "cell_type": "code",
   "execution_count": null,
   "id": "58f56be5",
   "metadata": {},
   "outputs": [],
   "source": [
    "entered_height = float('75')"
   ]
  },
  {
   "cell_type": "code",
   "execution_count": null,
   "id": "1bbc6e45",
   "metadata": {},
   "outputs": [],
   "source": [
    "option_date = 'until'  #'from' #'in' "
   ]
  },
  {
   "cell_type": "code",
   "execution_count": null,
   "id": "4f62a2a5",
   "metadata": {},
   "outputs": [],
   "source": [
    "entered_date = int('2001')"
   ]
  },
  {
   "cell_type": "code",
   "execution_count": null,
   "id": "7f4911c6",
   "metadata": {},
   "outputs": [],
   "source": [
    "\n",
    "import matplotlib.pyplot as plt\n",
    "# Create a scatter plot\n",
    "plt.figure(figsize=(10, 6))\n",
    "\n",
    "# Iterate through unique EIDs to assign different colors and markers\n",
    "unique_sites = graph_data_df['Freq.'].unique()\n",
    "for site, marker in zip(unique_sites, ['o', 's', '^']):\n",
    "    subset = graph_data_df[graph_data_df['Site'] == site]\n",
    "    print(subset)\n",
    "    plt.scatter(subset['Site'], subset['EID'], label=site, marker=marker)\n",
    "\n",
    "# Customize the plot\n",
    "plt.xlabel('Site')\n",
    "plt.ylabel('Ensamble DAB Multiplex')\n",
    "plt.title('DAB Multiplex by Site and Frequency')\n",
    "plt.xticks(rotation=45, ha='right')\n",
    "plt.legend(title='EID')\n",
    "\n",
    "# Show the plot\n",
    "plt.tight_layout()\n",
    "plt.show()\n",
    "\n"
   ]
  },
  {
   "cell_type": "code",
   "execution_count": null,
   "id": "9cc9a33f",
   "metadata": {},
   "outputs": [],
   "source": [
    "#i.\tFor ‘Site Height’ more than 75\n",
    "def get_power_by_parameter(option_gt, option_ls, option_eq, chosen_option, df_to_compare, entered_data):\n",
    "    #radio_data_selected = select_DABs()\n",
    "    df_selected = radio_data_selected\n",
    "    if chosen_option == option_gt:\n",
    "        power_by_parameter = df_selected.loc[df_to_compare.gt(entered_data),'Power(kW)']\n",
    "    elif chosen_option == option_ls:\n",
    "        power_by_parameter = df_selected.loc[df_to_compare.lt(entered_data),'Power(kW)']\n",
    "    elif chosen_option == option_eq:\n",
    "        power_by_parameter = df_selected.loc[df_to_compare.eq(entered_data),'Power(kW)']\n",
    "    else:\n",
    "        power_by_parameter = 0\n",
    "        print('Not an option')\n",
    "\n",
    "    return power_by_parameter\n",
    "\n"
   ]
  },
  {
   "cell_type": "code",
   "execution_count": null,
   "id": "d7f2918c",
   "metadata": {},
   "outputs": [],
   "source": [
    "#option_gt ='great'\n",
    "#option_ls = 'less'\n",
    "#option_eq = 'equal'\n",
    "#chosen_option = \n",
    "#df = radio_data_selected\n",
    "#df_to_compare = radio_data_selected['Site Height']\n",
    "#entered_data = entered_height\n",
    "#power_by_parameter = power_by_height_size\n",
    "#df_selected = radio_data_selected\n",
    "option_height = 'great' #'less' #'equal'\n",
    "try:\n",
    "    entered_height = float(input())\n",
    "except ValueError:\n",
    "    print('Entered value not a valid height')\n",
    "\n",
    "power_by_par = get_power_by_parameter('great', 'less', 'equal', option_height, radio_data_selected['Site Height'], entered_height)"
   ]
  },
  {
   "cell_type": "code",
   "execution_count": null,
   "id": "414dd672",
   "metadata": {},
   "outputs": [],
   "source": [
    "#option_gt ='from'\n",
    "#option_ls = 'until'\n",
    "#option_eq = 'in'\n",
    "#chosen_option = \n",
    "#df = radio_data_selected\n",
    "#df_to_compare = radio_data_selected['Date'].dt.year\n",
    "#entered_data = entered_date\n",
    "#power_by_parameter = power_by_date\n",
    "#df_selected = radio_data_selected\n",
    "option_date = 'from'  #'until' #'in'\n",
    "try:\n",
    "    entered_date = int(input())\n",
    "except ValueError:\n",
    "    print('Entered value not a valid year')\n",
    "\n",
    "power_by_par = get_power_by_parameter('from', 'until', 'in', option_date, radio_data_selected['Date'].dt.year,  entered_date)"
   ]
  },
  {
   "cell_type": "code",
   "execution_count": null,
   "id": "2448fe3b",
   "metadata": {},
   "outputs": [],
   "source": [
    "radio_data_selected['Date']"
   ]
  },
  {
   "cell_type": "code",
   "execution_count": null,
   "id": "d2a188aa",
   "metadata": {},
   "outputs": [],
   "source": [
    "\n",
    "print(power_by_par)\n",
    "\n",
    "mean_power = power_by_par.mean(skipna=True)\n",
    "mode_power = power_by_par.mode(dropna=True)\n",
    "median_power = power_by_par.median(skipna=True)\n",
    "\n",
    "modes=[]\n",
    "for mode in mode_power:\n",
    "    modes.append(mode)\n",
    "\n",
    "print(f\"Mean {mean_power:.2f}\\nMode {modes}\\nMedian {median_power:.2f}\")"
   ]
  },
  {
   "cell_type": "code",
   "execution_count": null,
   "id": "62f0bda6",
   "metadata": {},
   "outputs": [],
   "source": [
    "#i.\tFor ‘Date’ more than 2001\n",
    "\n",
    "if option_date  == 'from':\n",
    "    power_by_date = radio_data_selected.loc[radio_data_selected['Date'].dt.year.gt(entered_date),'Power(kW)']\n",
    "elif option_date  == 'until':\n",
    "    power_by_date = radio_data_selected.loc[radio_data_selected['Date'].dt.year.lt(entered_date),'Power(kW)']\n",
    "elif option_date  == 'in':\n",
    "    power_by_date = radio_data_selected.loc[radio_data_selected['Date'].dt.year.eq(entered_date),'Power(kW)']\n",
    "else:\n",
    "    print('Not an option')\n",
    "\n",
    "print(power_by_date)\n",
    "\n",
    "mean_power = power_by_date.mean()\n",
    "mode_power = power_by_date.mode()\n",
    "median_power = power_by_date.median()\n",
    "\n",
    "print(f\"Mean {mean_power}\\n Mode:{mode_power}\\n Median: {median_power}\")\n",
    "\n"
   ]
  },
  {
   "cell_type": "code",
   "execution_count": 21,
   "id": "a1d39fd5",
   "metadata": {},
   "outputs": [],
   "source": [
    "import tkinter as tk\n",
    "from tkinter import ttk\n",
    "from tkinter import filedialog as fd\n",
    "from tkinter.scrolledtext import ScrolledText\n",
    "from tkinter.messagebox import showinfo, showerror\n",
    "from functools import partial\n",
    "from matplotlib.backends.backend_tkagg import FigureCanvasTkAgg\n",
    "import pandas as pd\n",
    "import numpy as np\n",
    "import matplotlib.pyplot as plt\n",
    "import seaborn as sns"
   ]
  },
  {
   "cell_type": "code",
   "execution_count": 22,
   "id": "96ea308a",
   "metadata": {},
   "outputs": [],
   "source": [
    "#colors\n",
    "main_colour = '#8991DF'\n",
    "colour2 = '#377FA5'\n",
    "colour3 = '#4650B3'\n",
    "colour4 = '#891A99'"
   ]
  },
  {
   "cell_type": "code",
   "execution_count": 23,
   "id": "5ce5b39b",
   "metadata": {},
   "outputs": [],
   "source": [
    "def save_parameter_data_asjson(df):\n",
    "    df['Date'] = pd.to_datetime(df['Date'], dayfirst=True).dt.strftime('%Y-%m-%d')\n",
    "    df.to_json(r'C:\\Users\\herms\\Formative_Assignment\\saved_parameter.json', orient ='index', date_format = 'iso')"
   ]
  },
  {
   "cell_type": "code",
   "execution_count": 24,
   "id": "affd21e1",
   "metadata": {},
   "outputs": [],
   "source": [
    "def save_antenna_data_asjson(df):\n",
    "    df.to_json(r'C:\\Users\\herms\\Formative_Assignment\\saved_antenna.json', orient ='index')"
   ]
  },
  {
   "cell_type": "code",
   "execution_count": 25,
   "id": "f99399d3",
   "metadata": {},
   "outputs": [],
   "source": [
    "def close_all_windows():\n",
    "    #have to save the jsons\n",
    "    work_window.destroy()"
   ]
  },
  {
   "cell_type": "code",
   "execution_count": 26,
   "id": "d47ce7d1",
   "metadata": {},
   "outputs": [],
   "source": [
    "def display_table(frame, df):\n",
    "    df['Index'] = df.index \n",
    "    columns = ['Index'] + list(df.columns[:-1])\n",
    "    tree = ttk.Treeview(frame, columns=columns, show=\"headings\")\n",
    "\n",
    "    for column in df.columns:\n",
    "        tree.heading(column, text=column)\n",
    "        tree.column(column, width=100)\n",
    "\n",
    "    tree.grid(row=0, column=0)\n",
    "\n",
    "    for index, row in df.iterrows():\n",
    "        values = [row['Index']] + list(row.values[:-1])\n",
    "        tree.insert(\"\", tk.END, values=values)\n",
    "\n",
    "    tree.grid_rowconfigure(0, weight=1)\n",
    "    tree.grid_columnconfigure(0, weight=1)"
   ]
  },
  {
   "cell_type": "code",
   "execution_count": 27,
   "id": "d5570cf5",
   "metadata": {},
   "outputs": [],
   "source": [
    "def get_graph_window(df):\n",
    "    \n",
    "    #Formatting previous to define the graph\n",
    "    graph_data_df = df[['EID', 'Ensemble', 'Site', 'Freq.', 'Block', 'Serv Label1 ', 'Serv Label2 ', 'Serv Label4 ', 'Serv Label5 ']]\n",
    "    graph_data_df['Site'] = graph_data_df['Site'].str.title()\n",
    "    graph_data_df = graph_data_df.rename(columns={'Freq.':'Frequency','Serv Label1 ': 'Service Label 1', 'Serv Label2 ': 'Service Label 2', 'Serv Label4 ': 'Service Label 4', 'Serv Label5 ':'Service Label 5'})\n",
    "\n",
    "    #Graphic with Seaborn\n",
    "    fig, ax = plt.subplots(figsize=(8, 4))\n",
    "\n",
    "    sns.set_style(style='dark')\n",
    "    #sns.set_context(\"talk\")\n",
    "    DAB_plot = sns.scatterplot(data=graph_data_df, x='Site', y='EID', hue='Frequency', style ='Block', palette =[colour2, colour3, colour4 ], ax=ax)\n",
    "\n",
    "    # Set labels and title\n",
    "    ax.set_xlabel('Site of Transmission')\n",
    "    ax.set_ylabel('DAB Multiplex')\n",
    "    ax.set_title('DAB Multiplexes by Site of Transmission')\n",
    "\n",
    "    # Rotate x-axis labels for better visibility\n",
    "    plt.xticks(rotation=45, ha='right')\n",
    "\n",
    "    # Show the plot\n",
    "    plt.tight_layout()\n",
    "    plt.show()\n",
    "\n",
    "    #WINDOW DESIGN\n",
    "    graph_window = tk.Toplevel(work_window)\n",
    "    graph_window.title(\"Graph for DAB Multiplexes\")\n",
    "    graph_window.geometry(\"1200x800\")\n",
    "    graph_window.resizable(True, True)\n",
    "\n",
    "    graph_window.grid_rowconfigure(0, weight=1)\n",
    "    graph_window.grid_rowconfigure(1, weight=1)\n",
    "    graph_window.grid_columnconfigure(0, weight=1)\n",
    "\n",
    "    # UPPER FRAME\n",
    "    upper_frame = tk.Frame(graph_window, bg = colour3)\n",
    "    upper_frame.grid(row=0, column=0, sticky = 'nsew')\n",
    "\n",
    "    # RIGHT FRAME\n",
    "    lower_frame = tk.Frame(graph_window, bg ='white')\n",
    "    lower_frame.grid(row=1, column=0, sticky = 'nsew')\n",
    "\n",
    "    for i in range(3):\n",
    "        upper_frame.grid_rowconfigure(i, weight=1)\n",
    "        upper_frame.grid_columnconfigure(i, weight=1)\n",
    "\n",
    "        lower_frame.grid_rowconfigure(i, weight=1)\n",
    "        lower_frame.grid_columnconfigure(i, weight=1)\n",
    "\n",
    "    #Title of the graph\n",
    "    graph_title = tk.Label(upper_frame, text = 'DAB Multiplexes (EID) in Sites, styled by Block(Frequency)', font=('Helvetica bold',15), bg = colour3, fg ='white')\n",
    "    graph_title.grid(row=0, column=1)\n",
    "    canvas_graph = FigureCanvasTkAgg(DAB_plot.figure, master=upper_frame)\n",
    "    canvas_widget = canvas_graph.get_tk_widget()\n",
    "    canvas_widget.grid(row=1, column=1)\n",
    "\n",
    "    graph_data_df = graph_data_df.rename(columns={'Site':'Sites'})\n",
    "\n",
    "    #Table for grouping by EID\n",
    "    grouped_by_EID = graph_data_df.groupby('EID').agg({\n",
    "        'Ensemble': 'first',\n",
    "        'Service Label 1': 'first',\n",
    "        'Service Label 2': 'first',\n",
    "        'Service Label 4': 'first',\n",
    "        'Service Label 5': 'first',\n",
    "        'Sites': 'unique',  # Gets unique values as a list\n",
    "    }).reset_index()\n",
    "    grouped_by_EID = grouped_by_EID.set_index('EID')\n",
    "    \n",
    "    grouped_by_EID_label = tk.Label(lower_frame, text = 'Selected DABs with Service Labels and Transmision Sites', font=('Helvetica bold',10), bg = 'white', fg =colour3)\n",
    "    grouped_by_EID_label.grid(row=0, column=0)\n",
    "    grouped_by_EID_frame = tk.Frame(lower_frame, bg='white')\n",
    "    display_table(grouped_by_EID_frame, grouped_by_EID)\n",
    "    grouped_by_EID_frame.grid(row=1, column=0)\n",
    "\n",
    "    #Table for grouping by Block/Frequency\n",
    "    grouped_by_block = graph_data_df.groupby('Block').agg({\n",
    "        'Frequency': 'first', \n",
    "        'Sites': 'unique',  # Gets unique values as a list\n",
    "    }).reset_index()\n",
    "    grouped_by_block = grouped_by_block.set_index('Block')\n",
    "\n",
    "    grouped_by_block_label = tk.Label(lower_frame, text = 'Selected Blocks with corresponding Frequencies and Transmision Sites' , font=('Helvetica bold',10), bg = 'white', fg =colour3)\n",
    "    grouped_by_block_label.grid(row=0, column=2)\n",
    "    grouped_by_block_frame = tk.Frame(lower_frame, bg='white')\n",
    "    display_table(grouped_by_block_frame, grouped_by_block)\n",
    "    grouped_by_block_frame.grid(row=1, column=2)\n"
   ]
  },
  {
   "cell_type": "code",
   "execution_count": 88,
   "id": "6c5ccb98",
   "metadata": {},
   "outputs": [],
   "source": [
    "def get_correlation_window(df):\n",
    "    corr_data_df = df[['Freq.', 'Block', 'Serv Label1 ', 'Serv Label2 ', 'Serv Label3 ', 'Serv Label4 ', 'Serv Label10 ']]\n",
    "\n",
    "    def compute_chi_squared(df_cross_tab):\n",
    "        expected_cross_tab = df_cross_tab.copy()\n",
    "        totals_cross_tab = df_cross_tab.copy()\n",
    "        totals_cross_tab.index = list(df_cross_tab.sum(axis=1))\n",
    "        totals_cross_tab.columns = list(df_cross_tab.sum(axis=0))\n",
    "        total_tabs = totals_cross_tab.sum().sum()\n",
    "\n",
    "        for i, (row_total, row) in enumerate(totals_cross_tab.iterrows(), start=0):\n",
    "            for j, (col_total, value) in enumerate(row.items(), start=0):\n",
    "                expected_val = (col_total*row_total)/total_tabs\n",
    "                #print(f'Col_Total = {col_total} * Row_Total = {row_total} Expected = {expected_val}')\n",
    "                expected_cross_tab.iat[i, j] = expected_val\n",
    "                #print(f'j is{j}')\n",
    "            #print(i)\n",
    "        chi_sq = ((df_cross_tab.sub(expected_cross_tab, fill_value=0))**2/expected_cross_tab).sum().sum()\n",
    "        return chi_sq\n",
    "\n",
    "    def compute_cramers_v(table, chi_sq):\n",
    "        n = table.sum().sum()\n",
    "        phi_sq = chi_sq / n\n",
    "        r, k = table.shape\n",
    "        phi_sq_corr = max(0, phi_sq  - ((k - 1) * (r - 1)) / (n - 1))\n",
    "        r_corr = r - ((r - 1) ** 2) / (n - 1)\n",
    "        k_corr = k - ((k - 1) ** 2) / (n - 1)\n",
    "        cramers_v = np.sqrt(phi_sq_corr / min((k_corr - 1), (r_corr - 1)))\n",
    "        return cramers_v\n",
    "\n",
    "    #Matrix Calculation\n",
    "    categorical_columns = corr_data_df.columns\n",
    "    correlation_matrix = pd.DataFrame(index=categorical_columns, columns=categorical_columns)\n",
    "    for col1 in categorical_columns:\n",
    "        for col2 in categorical_columns:\n",
    "            cross_tab = pd.crosstab(index=corr_data_df[col1], columns=corr_data_df[col2])\n",
    "            #print(cross_tabs[f\"{col1} vs {col2}\"])\n",
    "            chi_sq = compute_chi_squared(cross_tab)\n",
    "            cramers_v = compute_cramers_v(cross_tab, chi_sq)\n",
    "            correlation_matrix.at[col1, col2] = cramers_v \n",
    "\n",
    "    # Create a heatmap\n",
    "    plt.figure(figsize=(10, 10))\n",
    "    corr_heatmap = sns.heatmap(correlation_matrix.astype(float), annot=True, cmap='vlag')\n",
    "    plt.title('Frequencies and Services Correlation Heatmap')\n",
    "    plt.show()\n",
    "\n",
    "    correlation_window = tk.Toplevel(work_window)\n",
    "    correlation_window.title(\"Correlation between Parameters\")\n",
    "    correlation_window.geometry(\"1000x800\")\n",
    "    correlation_window.resizable(True, True)\n",
    "\n",
    "    correlation_window.grid_rowconfigure(1, weight=1)\n",
    "    correlation_window.grid_columnconfigure(1, weight=1)\n",
    "    #Title of the graph\n",
    "    heatmap_title = tk.Label(correlation_window, text = \"Correlation Between Frequencies, Blocks and Services by Cramér's V index\", font=('Helvetica bold',15), bg = 'white', fg = colour4)\n",
    "    heatmap_title.grid(row=0, column=1)\n",
    "    canvas_graph = FigureCanvasTkAgg(corr_heatmap.figure, master=correlation_window)\n",
    "    canvas_widget = canvas_graph.get_tk_widget()\n",
    "    canvas_widget.grid(row=1, column=1)\n",
    "    "
   ]
  },
  {
   "cell_type": "code",
   "execution_count": 89,
   "id": "e06e3b52",
   "metadata": {},
   "outputs": [
    {
     "name": "stdout",
     "output_type": "stream",
     "text": [
      "745402    2008-09-11\n",
      "745418    2017-01-18\n",
      "745451    2014-10-22\n",
      "745498    2009-12-03\n",
      "745539    2004-05-26\n",
      "745600    2016-09-01\n",
      "745623    2016-02-15\n",
      "745651    2008-09-05\n",
      "745662    2009-12-01\n",
      "745676    2016-05-26\n",
      "745713    2015-02-26\n",
      "745718    2014-10-30\n",
      "745764    2014-06-26\n",
      "745902    1999-05-20\n",
      "745915    2015-12-11\n",
      "745964    2002-05-28\n",
      "746303    1900-01-01\n",
      "Name: Date, dtype: object\n"
     ]
    },
    {
     "data": {
      "text/plain": [
       "''"
      ]
     },
     "execution_count": 89,
     "metadata": {},
     "output_type": "execute_result"
    }
   ],
   "source": [
    "global df_parameters\n",
    "global df_antenna\n",
    "\n",
    "df_parameters = pd.read_json('saved_parameter.json', convert_dates = ['Date'], keep_default_dates = True, orient ='index')\n",
    "df_antenna = pd.read_json('saved_antenna.json', convert_dates = ['Date'], keep_default_dates = True, orient ='index')\n",
    "\n",
    "def drop_NGRs():\n",
    "    global df_parameters\n",
    "    global df_antenna\n",
    "    global NGR_list\n",
    "    \n",
    "    indexes_to_drop = df_antenna[df_antenna['NGR'].isin(NGR_list)].index\n",
    "    df_parameters = df_parameters.drop(indexes_to_drop)\n",
    "    df_antenna = df_antenna.drop(indexes_to_drop)\n",
    "    \n",
    "    print(\"NGR dropped\")\n",
    "    showinfo(title=\"Info\", message=\"NGRs dropped\")\n",
    "    print(df_antenna.index)\n",
    "\n",
    "def add_item_to_list(entry_text, list_print, items_list, df_to_search, col_name):\n",
    "    list_print.configure(state='normal')\n",
    "    item_from_text = entry_text.get()\n",
    "    item_exists = df_to_search[col_name].isin([item_from_text])\n",
    "    \n",
    "    if any(item_exists):\n",
    "        items_list.append(item_from_text)\n",
    "        list_print = update_print_list(list_print, items_list)\n",
    "    else:\n",
    "        showinfo(title=\"Error\", message=\"Item not present\")\n",
    "    list_print.configure(state='disabled')\n",
    "\n",
    "\n",
    "def update_print_list(list_to_print, list_to_get):    \n",
    "    list_to_print.delete('1.0', tk.END)\n",
    "    for item in list_to_get:\n",
    "        list_to_print.insert(tk.END, item)\n",
    "        list_to_print.insert(tk.END, '\\n')\n",
    "    list_to_print.update()\n",
    "    return list_to_print\n",
    "\n",
    "\n",
    "def select_DABs():\n",
    "    DAB_sel = df_parameters[df_parameters['EID'].isin(EID_list)]\n",
    "    DAB_sel_indexes = DAB_sel.index\n",
    "    antenna_sel = df_antenna.loc[DAB_sel_indexes]\n",
    "    #Renaming columns for after extraction\n",
    "    antenna_sel = antenna_sel.rename(columns={'Long': 'Longitude (Decimal)', \n",
    "                   'Lat': 'Latitude (Decimal)',\n",
    "                   'In-Use Ae Ht': 'Aerial Height(m)',\n",
    "                   'In-Use ERP Total': 'Power(kW)'})\n",
    "\n",
    "    radio_data_sel = pd.merge(DAB_sel, antenna_sel, left_index = True, right_index =True)\n",
    "    radio_data_sel['Date'] = pd.to_datetime(radio_data_sel['Date'], dayfirst=True).dt.strftime('%Y-%m-%d')\n",
    "    print(radio_data_sel['Date'])\n",
    "    radio_data_sel.to_json(r'C:\\Users\\herms\\Formative_Assignment\\complete_selected_radio_data.json', orient = 'index') \n",
    "    return radio_data_sel\n",
    "     #I have to see if this function can be used in the principal program withou pressing the button\n",
    "\n",
    "\n",
    "def show_DABs_in_pop_up():\n",
    "    DAB_data_window = tk.Toplevel(work_window)\n",
    "    DAB_data_window.title(\"DAB data for the selected IDs\")\n",
    "    DAB_data_window.geometry(\"900x450\")\n",
    "\n",
    "    df_to_show = select_DABs()\n",
    "\n",
    "    complete_frame = tk.Frame(DAB_data_window)\n",
    "    complete_frame.pack(fill=tk.BOTH, expand=True)\n",
    "\n",
    "    display_table(complete_frame, df_to_show)\n",
    "\n",
    "\n",
    "\n",
    "#Functions for RESULTS\n",
    "def get_power_by_parameter(options, entered_option, df_to_compare, entered_data, df_selected):\n",
    "    #radio_data_selected = select_DABs()\n",
    "    #df_selected = select_DABs()\n",
    "    chosen_option = entered_option.get()\n",
    "    if chosen_option == options[0]:\n",
    "        print(f'option {chosen_option}')\n",
    "        power_by_parameter = df_selected.loc[df_to_compare.gt(entered_data),'Power(kW)']\n",
    "    elif chosen_option == options[1]:\n",
    "        print(f'option {chosen_option}')\n",
    "        power_by_parameter = df_selected.loc[df_to_compare.lt(entered_data),'Power(kW)']\n",
    "    elif chosen_option == options[2]:\n",
    "        print(f'option {chosen_option}')\n",
    "        power_by_parameter = df_selected.loc[df_to_compare.eq(entered_data),'Power(kW)']\n",
    "    else:\n",
    "        power_by_parameter = 0\n",
    "        showinfo(title = 'Error', message='Not a valid option')\n",
    "\n",
    "    return power_by_parameter\n",
    "\n",
    "\n",
    "def fill_statistics_results(power_by_par):\n",
    "    mean_power = power_by_par.mean(skipna=True)\n",
    "    median_power = power_by_par.median(skipna=True)\n",
    "    mode_power_list = power_by_par.mode(dropna=True)\n",
    "\n",
    "    mean_result.configure(state='normal')\n",
    "    mean_result.delete(0.0, tk.END)\n",
    "    mean_result.insert(tk.END, mean_power)\n",
    "    mean_result.configure(state='disabled')\n",
    "\n",
    "    median_result.configure(state='normal')\n",
    "    median_result.delete(0.0, tk.END)\n",
    "    median_result.insert(tk.END, median_power)\n",
    "    mean_result.configure(state='disabled')\n",
    "\n",
    "    try:\n",
    "        mode_power = mode_power_list[0]\n",
    "    except KeyError:\n",
    "        mode_power = []\n",
    "        pass\n",
    "    \n",
    "    mode_result.configure(state='normal')\n",
    "    mode_result.delete(0.0, tk.END)\n",
    "    mode_result.insert(tk.END, mode_power)\n",
    "    mean_result.configure(state='diabled')\n",
    "\n",
    "\n",
    "def get_results_by_height(options, chosen_height, entered_data): #entered_data = get_height_value\n",
    "    df_selected = select_DABs()\n",
    "    try:\n",
    "        entered_height = float(entered_data.get())\n",
    "        print(entered_height)\n",
    "    except ValueError:\n",
    "        showinfo(title = 'Error', message='Value is not a valid height')\n",
    "        \n",
    "    power_by_height = get_power_by_parameter(options, chosen_height, df_selected['Site Height'], entered_height, df_selected)  \n",
    "    print(power_by_height)\n",
    "    fill_statistics_results(power_by_height)\n",
    "\n",
    "\n",
    "def get_results_by_date(options, chosen_date, entered_data):\n",
    "    df_selected = select_DABs()\n",
    "    try:\n",
    "        entered_date = int(entered_data.get())\n",
    "    except ValueError:\n",
    "        print('Entered value not a valid year')\n",
    "\n",
    "    df_selected['Date'] = pd.to_datetime(df_selected['Date'])\n",
    "    print(df_selected['Date'])\n",
    "\n",
    "    power_by_date = get_power_by_parameter(options, chosen_date, df_selected['Date'].dt.year,  entered_date, df_selected)\n",
    "    print(power_by_date)\n",
    "    fill_statistics_results(power_by_date)\n",
    "\n",
    "\n",
    "def dummy_function():\n",
    "    radio_data_sel = select_DABs()\n",
    "    showinfo(title=\"Alone Together\", \n",
    "    message='i dont know where you are going\\nbut do you have room for one more\\ntroubled soul')\n",
    "\n",
    "\n",
    "\n",
    "#WORK WINDOW DESIGN\n",
    "\n",
    "work_window = tk.Tk()\n",
    "work_window.title(\"Work Window\")\n",
    "work_window_width = work_window.winfo_screenwidth()\n",
    "work_window_height = work_window.winfo_screenheight()\n",
    "work_window.geometry(\"%dx%d\" % (work_window_width, work_window_height))\n",
    "work_window.resizable(True, True)\n",
    "\n",
    "# Main Layout\n",
    "work_window.grid_rowconfigure(0, weight=1)\n",
    "work_window.grid_columnconfigure(0, weight=6)\n",
    "work_window.grid_columnconfigure(1, weight=5)\n",
    "\n",
    "# LEFT FRAME\n",
    "left_frame = tk.Frame(work_window, bg=\"white\")\n",
    "left_frame.grid(row=0, column=0, sticky=\"nsew\")\n",
    "\n",
    "# RIGHT FRAME\n",
    "right_frame = tk.Frame(work_window, bg=colour2)\n",
    "right_frame.grid(row=0, column=1, sticky=\"nsew\")\n",
    "\n",
    "left_frame.grid_columnconfigure(0, weight=1)\n",
    "right_frame.grid_columnconfigure(0, weight=1)\n",
    "right_frame.grid_columnconfigure(1, weight=2)\n",
    "right_frame.grid_columnconfigure(2, weight=1)\n",
    "\n",
    "for i in range(8):\n",
    "    left_frame.grid_rowconfigure(i, weight=1)\n",
    "    right_frame.grid_rowconfigure(i, weight=1)\n",
    "\n",
    "\n",
    "# WINDOW ELEMENTS\n",
    "# LEFT ELEMENTS\n",
    "# Table 1\n",
    "table1_frame = tk.Frame(left_frame, bg=colour3)\n",
    "#display_table(table1_frame, df_parameters)\n",
    "table1_frame.grid(row=1, column=0)\n",
    "\n",
    "# Table 2\n",
    "table2_frame = tk.Frame(left_frame, bg=colour3)\n",
    "#display_table(table2_frame, df_antenna)\n",
    "table2_frame.grid(row=4, column=0)\n",
    "\n",
    "save_parameter_file_button = tk.Button(\n",
    "    left_frame,\n",
    "    text=\"Save Parameter File\",\n",
    "    height=2,\n",
    "    border=1,\n",
    "    width=15,\n",
    "    command=partial(save_parameter_data_asjson, df_parameters),\n",
    "    background = main_colour,\n",
    "    foreground = 'white'\n",
    ")\n",
    "save_parameter_file_button.grid(row=2, column=0)\n",
    "\n",
    "save_antenna_file_button = tk.Button(\n",
    "    left_frame,\n",
    "    text=\"Save Antenna File\",\n",
    "    height=2,\n",
    "    border=1,\n",
    "    width=15,\n",
    "    command=partial(save_antenna_data_asjson, df_antenna),\n",
    "    background = main_colour,\n",
    "    foreground = 'white'\n",
    ")\n",
    "save_antenna_file_button.grid(row=5, column=0)\n",
    "\n",
    "#RIGHT ELEMENTS\n",
    "first_title_label = tk.Label(right_frame, text = 'DATA MANIPULATION', bg = colour2, fg ='white')\n",
    "first_title_label.grid(row = 0, column=1)\n",
    "\n",
    "#Clean_by_NGR_Frame\n",
    "global NGR_list\n",
    "NGR_list = ['NZ03586532','NJ94270253','SP820141','NN11277352']\n",
    "clean_NGR_frame = tk.Frame(right_frame, bg = colour2, highlightthickness=2, highlightbackground='lavender')\n",
    "clean_NGR_frame.grid(row = 1, column=1, sticky=\"nsew\", padx=5)\n",
    "\n",
    "#configure internal grid\n",
    "for i in range(6):\n",
    "    clean_NGR_frame.grid_rowconfigure(i, weight=1)\n",
    "clean_NGR_frame.grid_columnconfigure(0, weight=2)\n",
    "clean_NGR_frame.grid_columnconfigure(1, weight=1)\n",
    "\n",
    "#Internal Left\n",
    "cNGR_title_label = tk.Label(clean_NGR_frame, text = 'NGR EXCLUSION', justify ='left', bg = colour2, fg ='white')\n",
    "cNGR_title_label.grid(row = 0, column=0)\n",
    "\n",
    "cNGR_inst_label = tk.Label(clean_NGR_frame, text = 'Enter NGR to drop', width=15,  bg = colour2, fg ='white')\n",
    "cNGR_inst_label.grid(row = 1, column = 0)\n",
    "\n",
    "cNGR_get_text = tk.Entry(clean_NGR_frame)\n",
    "cNGR_get_text.grid(row = 2, column = 0)\n",
    "\n",
    "cNGR_list_print = ScrolledText(clean_NGR_frame, width=15, height=3) # todo check \n",
    "cNGR_list_print.grid(row = 2, column = 1, rowspan=2)\n",
    "cNGR_list_print = update_print_list(cNGR_list_print, NGR_list)\n",
    "cNGR_list_print.configure(state='disabled')\n",
    "\n",
    "cNGR_add_button = tk.Button(clean_NGR_frame, text=\"Add NGR\",command=partial(add_item_to_list, cNGR_get_text, cNGR_list_print, NGR_list, df_antenna, 'NGR'))\n",
    "cNGR_add_button.grid(row = 3, column = 0)\n",
    "\n",
    "#Internal Right\n",
    "cNGR_inst_label = tk.Label(clean_NGR_frame, text = 'List of dropped NGRs',  bg = colour2, fg ='white')\n",
    "cNGR_inst_label.grid(row = 1, column = 1) \n",
    "\n",
    "cNGR_drop_button = tk.Button(clean_NGR_frame, text = 'Drop NGRs', command = drop_NGRs, bg = main_colour, fg = 'white')\n",
    "cNGR_drop_button.grid(row = 4, column = 1)\n",
    "\n",
    "\n",
    "#Select_EID FRAME\n",
    "global EID_list\n",
    "EID_list = ['CE15','C181','C199']\n",
    "EID_sel_frame = tk.Frame(right_frame, bg = colour2, highlightthickness = 2, highlightbackground = 'lavender')\n",
    "EID_sel_frame.grid(row = 2, column = 1, sticky=\"nsew\", padx=5)\n",
    "\n",
    "#configure internal grid\n",
    "for i in range(6):\n",
    "    EID_sel_frame.grid_rowconfigure(i, weight=1)\n",
    "EID_sel_frame.grid_columnconfigure(0, weight=2, )\n",
    "EID_sel_frame.grid_columnconfigure(1, weight=1)\n",
    "\n",
    "#Internal Left\n",
    "EID_sel_title = tk.Label(EID_sel_frame, text = 'DAB SELECTION by EID', justify ='left', bg = colour2, fg ='white')\n",
    "EID_sel_title.grid(row = 0, column=0)\n",
    "\n",
    "EID_sel_text = tk.Label(EID_sel_frame, text = 'Enter EID to select', width=15,  bg = colour2, fg ='white')\n",
    "EID_sel_text.grid(row = 1, column = 0)\n",
    "\n",
    "EID_get_text = tk.Entry(EID_sel_frame)\n",
    "EID_get_text.grid(row = 2, column = 0)\n",
    "\n",
    "EID_list_print = ScrolledText(EID_sel_frame, width=15, height=3) # todo check \n",
    "EID_list_print.grid(row = 2, column = 1, rowspan=2)\n",
    "EID_list_print = update_print_list(EID_list_print, EID_list)\n",
    "EID_list_print.configure(state='disabled')\n",
    "\n",
    "EID_add_button = tk.Button(EID_sel_frame, text=\"Add EID\",command=partial(add_item_to_list, EID_get_text, EID_list_print, EID_list, df_parameters, 'EID'))\n",
    "EID_add_button.grid(row = 3, column = 0)\n",
    "\n",
    "#Internal Right\n",
    "EID_to_get_text = tk.Label(EID_sel_frame, text = 'List of selected EIDs',  bg = colour2, fg ='white')\n",
    "EID_to_get_text.grid(row = 1, column = 1) \n",
    "\n",
    "DAB_sel_button = tk.Button(EID_sel_frame, text = 'SELECT DABs', bg = main_colour, fg = 'white', command = show_DABs_in_pop_up)\n",
    "DAB_sel_button.grid(row = 4, column = 1)\n",
    "\n",
    "###---OUTPUTS---##\n",
    "\n",
    "second_title_label = tk.Label(right_frame, text = 'RESULTS', bg = colour2, fg ='white')\n",
    "second_title_label.grid(row = 3, column=1)\n",
    "    \n",
    "#DESCRIPTIVE STATISTICS (MEAN, MODE, MEDIAN)\n",
    "ds_stat_frame =  tk.Frame(right_frame, bg = colour2, highlightthickness = 2, highlightbackground = 'lavender')\n",
    "ds_stat_frame.grid(row = 4, column = 1, sticky=\"nsew\", padx=5)\n",
    "\n",
    "#configure internal grid\n",
    "for i in range(6):\n",
    "    ds_stat_frame.grid_rowconfigure(i, weight=1)\n",
    "for i in range(3):\n",
    "    ds_stat_frame.grid_columnconfigure(i, weight=2)\n",
    "ds_stat_frame.grid_columnconfigure(4, weight=1)\n",
    "ds_stat_frame.grid_columnconfigure(5, weight=1)\n",
    "\n",
    "ds_stat_title = tk.Label(ds_stat_frame, text = 'In-Use ERP (Power) Statistics', justify ='left', bg = colour2, fg ='white')\n",
    "ds_stat_title.grid(row = 0, column=0, columnspan=3)\n",
    "#ds_stat_title = tk.Label(ds_stat_frame, text = 'STATISTICS', justify ='left', bg = colour2, fg ='white')\n",
    "#ds_stat_title.grid(row = 0, column=1)\n",
    "#ds_stat_title = tk.Label(ds_stat_frame, text = 'by', justify ='left', bg = colour2, fg ='white')\n",
    "#ds_stat_title.grid(row = 0, column=2)\n",
    "\n",
    "#Site Height Options\n",
    "ds_stat_height_label = tk.Label(ds_stat_frame, text = 'Site Height', justify ='left', bg = colour2, fg ='white')\n",
    "ds_stat_height_label.grid(row = 1, column=0)\n",
    "\n",
    "options_height = ['more', 'less', 'equal']\n",
    "height_comparative = tk.StringVar(ds_stat_frame)\n",
    "height_comparative.set('more')\n",
    "height_drop_menu = tk.OptionMenu(ds_stat_frame, height_comparative, *options_height)\n",
    "height_drop_menu.config(width=3, height = 1)\n",
    "height_drop_menu.grid(row=1, column =1)\n",
    "\n",
    "get_height_value = tk.Entry(ds_stat_frame, width = 7)\n",
    "get_height_value.insert(0, '75')\n",
    "get_height_value.grid(row = 1, column = 2)\n",
    "\n",
    "stat_by_height_button = tk.Button(ds_stat_frame, text = 'RESULTS', bg = main_colour, fg = 'white', command = partial(get_results_by_height, options_height, height_comparative, get_height_value))\n",
    "stat_by_height_button.grid(row = 2, column = 2)\n",
    "\n",
    "#Date Options\n",
    "ds_stat_date_label = tk.Label(ds_stat_frame, text = 'Date (Year)', justify ='left', bg = colour2, fg ='white')\n",
    "ds_stat_date_label.grid(row = 3, column=0)\n",
    "\n",
    "options_date = ['from', 'until', 'in']\n",
    "date_comparative = tk.StringVar(ds_stat_frame)\n",
    "date_comparative.set('from')\n",
    "date_drop_menu = tk.OptionMenu(ds_stat_frame, date_comparative, *options_date)\n",
    "date_drop_menu.config(width=3, height = 1)\n",
    "date_drop_menu.grid(row=3, column =1)\n",
    "\n",
    "get_year_value = tk.Entry(ds_stat_frame, width = 7)\n",
    "get_year_value.insert(0, '2001')\n",
    "get_year_value.grid(row = 3, column = 2)\n",
    "\n",
    "stat_by_year_button = tk.Button(ds_stat_frame, text = 'RESULTS', bg = main_colour, fg = 'white', command = partial(get_results_by_date, options_date, date_comparative, get_year_value))\n",
    "stat_by_year_button.grid(row = 4, column = 2)\n",
    "\n",
    "#Descriptive Statistics Results\n",
    "#Mean\n",
    "mean_label = tk.Label(ds_stat_frame, text = 'Mean', justify ='left', bg = colour2, fg ='white')\n",
    "mean_label.grid(row = 1, column=4)\n",
    "mean_result= tk.Text(ds_stat_frame, width = 7, height = 1, state='disabled') \n",
    "mean_result.grid(row = 1, column = 5)\n",
    "\n",
    "\n",
    "#Mode\n",
    "median_label = tk.Label(ds_stat_frame, text = 'Median', justify ='left', bg = colour2, fg ='white')\n",
    "median_label.grid(row = 2, column=4)\n",
    "median_result = tk.Text(ds_stat_frame, width = 7, height = 1)  \n",
    "median_result.grid(row = 2, column = 5)\n",
    "\n",
    "mode_label = tk.Label(ds_stat_frame, text = 'Mode', justify ='left', bg = colour2, fg ='white')\n",
    "mode_label.grid(row = 3, column = 4)\n",
    "mode_result = tk.Text(ds_stat_frame, width = 7, height = 1) # todo check \n",
    "mode_result.grid(row = 3, column = 5)\n",
    "\n",
    "#----Graphic----#\n",
    "graph_frame = tk.Frame(right_frame, bg = colour2, highlightthickness = 2, highlightbackground = 'lavender')\n",
    "graph_frame.grid(row = 5, column = 1,  sticky=\"nsew\", padx=5)\n",
    "graph_frame.grid_rowconfigure(0, weight =1)\n",
    "\n",
    "for i in range(3):\n",
    "    graph_frame.grid_columnconfigure(i, weight=2)\n",
    "\n",
    "graph_show_label = tk.Label(graph_frame, text = 'DAB Multiplexes by Site Graph', bg = colour2, fg ='white')\n",
    "graph_show_label.grid(row = 0, column = 1)\n",
    "\n",
    "df_for_graph = select_DABs()\n",
    "graph_show_button = tk.Button(graph_frame, text = 'Show Graph', bg = main_colour, fg = 'white', command = partial(get_graph_window, df_for_graph))\n",
    "graph_show_button.grid(row = 0, column = 2)\n",
    "\n",
    "#----Correlation----#\n",
    "cor_frame = tk.Frame(right_frame, bg = colour2, highlightthickness = 2, highlightbackground = 'lavender')\n",
    "cor_frame.grid(row = 6, column = 1,  sticky=\"nsew\", padx=5)\n",
    "cor_frame.grid_rowconfigure(0, weight =1)\n",
    "for i in range(3):\n",
    "    cor_frame.grid_columnconfigure(i, weight=2)\n",
    "\n",
    "cor_show_label = tk.Label(cor_frame, text = 'CORRELATION', bg = colour2, fg ='white')\n",
    "cor_show_label.grid(row = 0, column = 1)\n",
    "\n",
    "cor_show_button = tk.Button(cor_frame, text = 'Show Correlation', bg = main_colour, fg = 'white', command = partial(get_correlation_window, df_for_graph))\n",
    "cor_show_button.grid(row = 0, column = 2)\n",
    "\n",
    "work_window.protocol(\"WM_DELETE_WINDOW\", close_all_windows)"
   ]
  },
  {
   "cell_type": "code",
   "execution_count": 90,
   "id": "823a4d7e",
   "metadata": {},
   "outputs": [
    {
     "data": {
      "image/png": "[encoded data removed]",
      "text/plain": [
       "<Figure size 1000x1000 with 2 Axes>"
      ]
     },
     "metadata": {},
     "output_type": "display_data"
    }
   ],
   "source": [
    "work_window.mainloop()"
   ]
  }
 ],
 "metadata": {
  "kernelspec": {
   "display_name": "Python 3 (ipykernel)",
   "language": "python",
   "name": "python3"
  },
  "language_info": {
   "codemirror_mode": {
    "name": "ipython",
    "version": 3
   },
   "file_extension": ".py",
   "mimetype": "text/x-python",
   "name": "python",
   "nbconvert_exporter": "python",
   "pygments_lexer": "ipython3",
   "version": "3.11.4"
  }
 },
 "nbformat": 4,
 "nbformat_minor": 5
}
