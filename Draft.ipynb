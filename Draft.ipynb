{
 "cells": [
  {
   "cell_type": "code",
   "execution_count": null,
   "id": "f4d28362",
   "metadata": {},
   "outputs": [],
   "source": [
    "!conda info\n"
   ]
  },
  {
   "cell_type": "code",
   "execution_count": null,
   "id": "9d432675",
   "metadata": {},
   "outputs": [],
   "source": [
    "!jt -l\n"
   ]
  },
  {
   "cell_type": "code",
   "execution_count": null,
   "id": "137f9b9f",
   "metadata": {},
   "outputs": [],
   "source": [
    "!jt -t gruvboxd"
   ]
  },
  {
   "cell_type": "code",
   "execution_count": null,
   "id": "b8883428",
   "metadata": {},
   "outputs": [],
   "source": [
    "# Creating Main Window\n",
    "main_window = tk.Tk()\n",
    "main_window.title(\"Main Window\")\n",
    "main_window.geometry(\"900x500\")\n",
    "main_window.resizable(True, True)\n",
    "\n",
    "\n",
    "# Left Canvas\n",
    "canvas_left = tk.Canvas(main_window, bg=\"GhostWhite\", width=600, height=500)\n",
    "canvas_left.grid(row=0, column=0, sticky=\"nsew\")\n",
    "\n",
    "image_bck = PhotoImage(file=\"ed-howell-flow-graph_sm.png\")\n",
    "\n",
    "image_id = canvas_left.create_image(\n",
    "    canvas_left.winfo_reqwidth() // 2,\n",
    "    canvas_left.winfo_reqheight() // 2,\n",
    "    image=image_bck,\n",
    ")\n",
    "\n",
    "text_id = canvas_left.create_text(\n",
    "    canvas_left.winfo_reqwidth() // 2,\n",
    "    4 * canvas_left.winfo_reqheight() // 5,\n",
    "    text=\"This is a product developed by Student S.A. All rights reserved\",\n",
    "    font=(\"Arial\", 8),\n",
    "    fill=\"white\",\n",
    ")\n",
    "\n",
    "# Right Canvas\n",
    "canvas_right = tk.Canvas(\n",
    "    main_window,\n",
    "    bg=main_colour,\n",
    "    width=300,\n",
    "    height=500,\n",
    ")\n",
    "canvas_right.grid(row=0, column=1, sticky=\"nsew\")\n",
    "\n",
    "# Add text objects on the right canvas\n",
    "text1_id = canvas_right.create_text(\n",
    "    2*canvas_right.winfo_reqwidth() // 7,\n",
    "    5 * canvas_right.winfo_reqheight() // 15,\n",
    "    text=\"Parameters Data File\",\n",
    "    font=(\"Arial\", 12),\n",
    ")\n",
    "\n",
    "open_file_1_button = tk.Button(canvas_right, text=\"Select File 1\", command=select_file)\n",
    "open_file_1_button.place(\n",
    "    x=(5*canvas_right.winfo_reqwidth() // 7),\n",
    "    y=(6 * canvas_right.winfo_reqheight() // 15),\n",
    ")\n",
    "\n",
    "text2_id = canvas_right.create_text(\n",
    "    canvas_right.winfo_reqwidth() // 7,\n",
    "    9 * canvas_right.winfo_reqheight() // 15,\n",
    "    text=\"Antenna Data File\",\n",
    "    font=(\"Arial\", 12),\n",
    ")\n",
    "\n",
    "open_file_2_button = tk.Button(\n",
    "    canvas_right,\n",
    "    text=\"Select File 2\",\n",
    "    command=select_file,\n",
    ")\n",
    "open_file_2_button.place(\n",
    "    x=(canvas_right.winfo_reqwidth() // 7),\n",
    "    y=(10 * canvas_right.winfo_reqheight() // 15),\n",
    ")\n",
    "\n",
    "# Create a button on the right canvas\n",
    "load_button = tk.Button(\n",
    "    canvas_right,\n",
    "    text=\"Load\",\n",
    "    command=on_button_click,\n",
    "    background=\"white\",\n",
    "    foreground=\"black\",\n",
    "    activebackground=\"lightgrey\",\n",
    "    width=13,\n",
    "    height=1,\n",
    "    border=1,\n",
    "    font=(\"Arial\", 9, \"bold\"),\n",
    ")\n",
    "\n",
    "load_button.place(\n",
    "    x=(2 * canvas_right.winfo_reqwidth() // 5),\n",
    "    y=(12 * canvas_right.winfo_reqheight() // 15),\n",
    ")\n",
    "\n",
    "# rows\n",
    "main_window.grid_rowconfigure(0, weight=1)\n",
    "\n",
    "# columns\n",
    "main_window.grid_columnconfigure(0, weight=1)\n",
    "main_window.grid_columnconfigure(1, weight=1)\n",
    "\n",
    "main_window.update_idletasks()"
   ]
  },
  {
   "cell_type": "code",
   "execution_count": null,
   "id": "708de51e",
   "metadata": {},
   "outputs": [],
   "source": [
    "def select_file():\n",
    "    filetypes = (\n",
    "        ('Data Files', '*.csv'),\n",
    "        #('All files', '*.*')\n",
    "    )\n",
    "\n",
    "    filename = fd.askopenfilename(\n",
    "        title='Open a file',\n",
    "        initialdir='/',\n",
    "        filetypes=filetypes)\n",
    "\n",
    "    showinfo(\n",
    "        title='Selected File',\n",
    "        message= 'File not selected' \n",
    "    )\n"
   ]
  },
  {
   "cell_type": "code",
   "execution_count": null,
   "id": "566654ab",
   "metadata": {},
   "outputs": [],
   "source": [
    "# # Convert Raw Data a Structureds  JSON\n",
    "# Parameter Raw Data a Structured JSON\n",
    "\n",
    "def save_parameter_data(df): \n",
    "    global dict_parameter \n",
    "    dict_parameter = {}\n",
    "    services_dict = {}\n",
    "    dservices_dict = {}\n",
    "    for index in df.index: \n",
    "        for i in range(31):\n",
    "            key = df.loc[index, f'SId {i+1} (Hex)']\n",
    "            print(f'for  INDEX  {index}: The KEY in in this indesxx es {key} AND ITS TYPE IS {type(key)} ')\n",
    "            if not key == '':\n",
    "                services_dict[key] = {\n",
    "                'ServID': df.loc[index,f'SId {i+1} (Hex)'],\n",
    "                'Label': df.loc[index,f'Serv Label{i+1} '],\n",
    "                'LSN': df.loc[index,f'LSN {i+1} (Hex)'] \n",
    "                }\n",
    "        for i in range(14):\n",
    "            key = df.loc[index, f'Data SId {i+1} (Hex)']\n",
    "            if not key == '':\n",
    "                dservices_dict[key] = {\n",
    "                'DServID':df.loc[index, f'Data SId {i+1} (Hex)'],\n",
    "                'Data Service Label':df.loc[index, f'Data Serv Label{i+1}'],\n",
    "                }\n",
    "    for index in df.index: \n",
    "        dict_parameter[df.loc[index, 'id']] ={\n",
    "            'ID': df.loc[index, 'id'],\n",
    "            'Date': df.loc[index, 'Date'],\n",
    "            'Ensemble ID': df.loc[index, 'EID'],\n",
    "            'Ensemble': df.loc[index, 'Ensemble'],\n",
    "            'Ensemble Area': df.loc[index, 'Ensemble Area'],\n",
    "            'Licence': df.loc[index, 'Licence'],\n",
    "            'Transmitter Area': df.loc[index, 'Transmitter Area'],\n",
    "            'Site': df.loc[index, 'Site'],\n",
    "            'Frequency': df.loc[index, 'Freq.'],\n",
    "            'Block': df.loc[index, 'Block'],\n",
    "            'TII Main ID': df.loc[index, 'TII Main Id (Hex)'],\n",
    "            'TII Sub ID': df.loc[index, 'TII Sub Id (Hex)'],\n",
    "            #'Services': services_dict,\n",
    "            #'Data Services': dservices_dict\n",
    "        }\n",
    "\n",
    "    print(\"\\n\\nRe-estructuring Parameter Data dictionary\")\n",
    "    first_key = next(iter(dict_parameter))\n",
    "    first_value = next(iter(dict_parameter.values()))\n",
    "    print(\"\\nPrinting the first element of Parameter Data\")\n",
    "    pprint(first_key)\n",
    "    pprint(first_value)\n",
    "    \n",
    "    #Creating a JSON dictionary         \n",
    "    with open(\"Parameter_structured_data.json\", \"w\") as outfile:\n",
    "        json.dump(dict_parameter, outfile)"
   ]
  },
  {
   "cell_type": "code",
   "execution_count": null,
   "id": "80adb7e8",
   "metadata": {},
   "outputs": [],
   "source": [
    "outer_service_columns =[]\n",
    "inner_service_columns =[]\n",
    "\n",
    "for i in range(32):\n",
    "    outer_service_columns.append('Services')\n",
    "    outer_service_columns.append('Services')\n",
    "    outer_service_columns.append('Services')\n",
    "    inner_service_columns.append(f'Serv Label {i+1}')\n",
    "    inner_service_columns.append(f'SId {i+1} (Hex)')\n",
    "    inner_service_columns.append(f'LSN {i+1} (Hex)')\n",
    "\n",
    "print(outer_service_columns)\n",
    "print(inner_service_columns)\n",
    "print(len(outer_service_columns))\n",
    "print(len(inner_service_columns))"
   ]
  },
  {
   "cell_type": "code",
   "execution_count": null,
   "id": "5c6a4ed1",
   "metadata": {},
   "outputs": [],
   "source": [
    "outer_dservice_columns =[]\n",
    "inner_dservice_columns =[]\n",
    "\n",
    "for i in range(15):\n",
    "    outer_dservice_columns.append('Data Services')\n",
    "    outer_dservice_columns.append('Data Services')\n",
    "    inner_dservice_columns.append(f'Data Serv Label {i+1}')\n",
    "    inner_dservice_columns.append( f'Data Serv ID {i+1} (Hex)')\n",
    "\n",
    "print(outer_dservice_columns)\n",
    "print(inner_dservice_columns)\n",
    "print(len(outer_dservice_columns))\n",
    "print(len(inner_dservice_columns))"
   ]
  },
  {
   "cell_type": "code",
   "execution_count": null,
   "id": "fbc9e465",
   "metadata": {},
   "outputs": [],
   "source": [
    "parameter_outer_columns = ['id', 'Date','Ensemble', 'Licence', 'Ensemble Area', 'Ensemble ID', 'Transmitter', 'Site', 'Frequency', 'Block', 'TII Main ID', 'TII Sub, ID' ]\n",
    "parameter_inner_columns = [None, None, None, None, None, None, None, None, None, None, None, None ]\n",
    "\n"
   ]
  },
  {
   "cell_type": "code",
   "execution_count": null,
   "id": "a9f77705",
   "metadata": {},
   "outputs": [],
   "source": [
    "parameter_outer_columns = parameter_outer_columns + outer_service_columns + outer_dservice_columns \n",
    "parameter_inner_columns = parameter_inner_columns + inner_service_columns + inner_dservice_columns"
   ]
  },
  {
   "cell_type": "code",
   "execution_count": null,
   "id": "a7dae5fc",
   "metadata": {},
   "outputs": [],
   "source": [
    "print(parameter_outer_columns)\n",
    "print(len(parameter_outer_columns))\n",
    "print(parameter_inner_columns)\n",
    "print(len(parameter_inner_columns))"
   ]
  },
  {
   "cell_type": "code",
   "execution_count": null,
   "id": "81b81d41",
   "metadata": {},
   "outputs": [],
   "source": [
    "total_parameters_columns = [parameter_outer_columns, parameter_inner_columns]"
   ]
  },
  {
   "cell_type": "code",
   "execution_count": null,
   "id": "d8e0f30e",
   "metadata": {},
   "outputs": [],
   "source": [
    "import pandas as pd\n",
    "import numpy as np\n",
    "\n",
    "parameters_raw = pd.read_csv('Tx_Params_DAB_SAMPLE.csv', encoding='latin-1', na_values = np.nan)\n",
    "antenna_raw = pd.read_csv('Tx_Antenna_DAB_SAMPLE.csv', encoding='latin-1', na_values = np.nan)"
   ]
  },
  {
   "cell_type": "code",
   "execution_count": null,
   "id": "6ee79c19",
   "metadata": {},
   "outputs": [],
   "source": [
    "parameters_raw = parameters_raw.set_index('id')\n",
    "antenna_raw = antenna_raw.set_index('id')"
   ]
  },
  {
   "cell_type": "code",
   "execution_count": null,
   "id": "775f8fef",
   "metadata": {},
   "outputs": [],
   "source": [
    "parameters_raw.head()"
   ]
  },
  {
   "cell_type": "code",
   "execution_count": null,
   "id": "f6579a70",
   "metadata": {},
   "outputs": [],
   "source": [
    "df = parameters_raw"
   ]
  },
  {
   "cell_type": "code",
   "execution_count": null,
   "id": "fc445086",
   "metadata": {},
   "outputs": [],
   "source": [
    "dfa =antenna_raw"
   ]
  },
  {
   "cell_type": "code",
   "execution_count": null,
   "id": "efcf568e",
   "metadata": {},
   "outputs": [],
   "source": [
    "# Cleaning Parameters Data\n",
    "for index in df.index:\n",
    "    print(index)\n",
    "\n",
    "for column in df:\n",
    "    value = (df[column].values)\n",
    "    print(f'The value of the cell named {column} is {value[17]} and its type is {type(value[17])}')\n"
   ]
  },
  {
   "cell_type": "code",
   "execution_count": null,
   "id": "bf59f0da",
   "metadata": {},
   "outputs": [],
   "source": [
    "df = df.replace(np.nan, np.nan)"
   ]
  },
  {
   "cell_type": "code",
   "execution_count": null,
   "id": "f750ce1e",
   "metadata": {},
   "outputs": [],
   "source": [
    "df['Date'] = pd.to_datetime(df['Date']).dt.date"
   ]
  },
  {
   "cell_type": "code",
   "execution_count": null,
   "id": "54d282f5",
   "metadata": {},
   "outputs": [],
   "source": [
    "df.loc[746171, ['Date']]"
   ]
  },
  {
   "cell_type": "code",
   "execution_count": null,
   "id": "b520d2d0",
   "metadata": {},
   "outputs": [],
   "source": [
    "duplicate_rows_parameter = parameters_raw[parameters_raw.duplicated()]\n",
    "print(\"Duplicate Rows in parameters:\\n\")\n",
    "print(duplicate_rows_parameter)"
   ]
  },
  {
   "cell_type": "code",
   "execution_count": null,
   "id": "fa91c8d6",
   "metadata": {},
   "outputs": [],
   "source": [
    "#Format in Site \n",
    "df['Site'] = df['Site'].str.title()\n"
   ]
  },
  {
   "cell_type": "code",
   "execution_count": null,
   "id": "9c996ebc",
   "metadata": {},
   "outputs": [],
   "source": [
    "import dataframecleaner as dfc"
   ]
  },
  {
   "cell_type": "code",
   "execution_count": null,
   "id": "52df4869",
   "metadata": {},
   "outputs": [],
   "source": [
    "new_columns =['NGR', 'Longitude/Latitude', 'Long', 'Lat', 'Site Height',\n",
    "            'In-Use Ae Ht','In-Use ERP Total','Dir Max ERP', \n",
    "            '0','10','20','30','40','50','60','70','80','90',\n",
    "            '100','110','120','130','140','150','160','170','180','190',\n",
    "            '200','210','220','230','240','250','260','270','280','290',\n",
    "            '300','310','320','330','340','350' ]"
   ]
  },
  {
   "cell_type": "code",
   "execution_count": null,
   "id": "3511cdf9",
   "metadata": {},
   "outputs": [],
   "source": [
    "dfa = dfa[new_columns]"
   ]
  },
  {
   "cell_type": "code",
   "execution_count": null,
   "id": "23a1376b",
   "metadata": {},
   "outputs": [],
   "source": [
    "# Cleaning Parameters Data\n",
    "for index in dfa.index:\n",
    "    print(index)\n",
    "\n",
    "for column in dfa:\n",
    "    value = (dfa[column].values)\n",
    "    print(f'The value of the cell named {column} is {value[23]} and its type is {type(value[23])}')"
   ]
  },
  {
   "cell_type": "code",
   "execution_count": null,
   "id": "ebf06449",
   "metadata": {},
   "outputs": [],
   "source": [
    "#In-Use ERP \n",
    "new_values = [ ]\n",
    "dfa['In-Use ERP Total'] = dfa['In-Use ERP Total'].replace(np.nan, '0')\n",
    "dfa['In-Use ERP Total'] = dfa['In-Use ERP Total'].str.replace('.', '')\n",
    "dfa['In-Use ERP Total'] = dfa['In-Use ERP Total'].str.replace(',', '.').astype(float)\n"
   ]
  },
  {
   "cell_type": "code",
   "execution_count": null,
   "id": "a88adda6",
   "metadata": {},
   "outputs": [],
   "source": [
    "print(dfa['In-Use ERP Total'])"
   ]
  },
  {
   "cell_type": "code",
   "execution_count": null,
   "id": "16c6b108",
   "metadata": {},
   "outputs": [],
   "source": [
    "dfa.head()"
   ]
  },
  {
   "cell_type": "code",
   "execution_count": null,
   "id": "e18a52e6",
   "metadata": {},
   "outputs": [],
   "source": [
    "dfa.to_json(r'C:\\Users\\herms\\Formative_Assignment\\saved_antenna_table.json', orient ='index')"
   ]
  },
  {
   "cell_type": "code",
   "execution_count": null,
   "id": "92f4033d",
   "metadata": {},
   "outputs": [],
   "source": [
    "parameters_dict =  dfa.to_dict(orient='records')"
   ]
  },
  {
   "cell_type": "code",
   "execution_count": null,
   "id": "3e93ba04",
   "metadata": {},
   "outputs": [],
   "source": [
    "parameters_dict \n"
   ]
  },
  {
   "cell_type": "code",
   "execution_count": null,
   "id": "4a98c795",
   "metadata": {},
   "outputs": [],
   "source": [
    "duplicate_rows_antenna = antenna_raw[antenna_raw.duplicated()]\n",
    "print(\"Duplicate Rows in antenna:\\n\")\n",
    "print(duplicate_rows_antenna)"
   ]
  },
  {
   "cell_type": "code",
   "execution_count": null,
   "id": "7fa4ed59",
   "metadata": {},
   "outputs": [],
   "source": [
    "df.rename(columns={'Long': 'Longitude (Decimal)', \n",
    "                   'Lat': 'Latitude (Decimal)',\n",
    "                   'In-Use Ae Ht': 'Aerial height(m)',\n",
    "                   'In-Use ERP Total': 'Power(kW)',})"
   ]
  },
  {
   "cell_type": "code",
   "execution_count": null,
   "id": "71c082db",
   "metadata": {},
   "outputs": [],
   "source": [
    "test_df  = pd.read_json('saved_parameter.json', encoding='latin-1', orient ='index')\n",
    "test_dfa = pd.read_json('saved_antenna.json', encoding='latin-1', orient ='index')"
   ]
  },
  {
   "cell_type": "code",
   "execution_count": null,
   "id": "193430ac",
   "metadata": {},
   "outputs": [],
   "source": [
    "print(test_df)"
   ]
  },
  {
   "cell_type": "code",
   "execution_count": null,
   "id": "340ca5ab",
   "metadata": {},
   "outputs": [],
   "source": [
    "print(test_dfa)"
   ]
  },
  {
   "cell_type": "code",
   "execution_count": null,
   "id": "f131f530",
   "metadata": {},
   "outputs": [],
   "source": [
    "NGR_to_drop = ['TF 6267 2032', 'SO24411270', 'NT23338724','SU87709110']"
   ]
  },
  {
   "cell_type": "code",
   "execution_count": null,
   "id": "b4d5b2cf",
   "metadata": {},
   "outputs": [],
   "source": [
    "new_value = 'TQ29689006'"
   ]
  },
  {
   "cell_type": "code",
   "execution_count": null,
   "id": "f6fdd712",
   "metadata": {},
   "outputs": [],
   "source": [
    "NGR_to_drop.append(new_value)"
   ]
  },
  {
   "cell_type": "code",
   "execution_count": null,
   "id": "062f5b2d",
   "metadata": {},
   "outputs": [],
   "source": [
    "indexes_to_drop = test_dfa[test_dfa['NGR'].isin(NGR_to_drop)].index"
   ]
  },
  {
   "cell_type": "code",
   "execution_count": null,
   "id": "7651419d",
   "metadata": {},
   "outputs": [],
   "source": [
    "parameters_wo_NGR = test_df.drop(indexes_to_drop)\n",
    "antenna_wo_NGR = test_dfa.drop(indexes_to_drop)"
   ]
  },
  {
   "cell_type": "code",
   "execution_count": null,
   "id": "90319673",
   "metadata": {},
   "outputs": [],
   "source": [
    "antenna_wo_NGR"
   ]
  },
  {
   "cell_type": "code",
   "execution_count": null,
   "id": "6879af9a",
   "metadata": {},
   "outputs": [],
   "source": [
    "test_df.loc['']"
   ]
  },
  {
   "cell_type": "code",
   "execution_count": 1,
   "id": "a1d39fd5",
   "metadata": {},
   "outputs": [],
   "source": [
    "import tkinter as tk\n",
    "from tkinter import ttk\n",
    "from tkinter import filedialog as fd\n",
    "from tkinter.messagebox import showinfo, showerror\n",
    "from functools import partial\n",
    "import pandas as pd"
   ]
  },
  {
   "cell_type": "code",
   "execution_count": 2,
   "id": "96ea308a",
   "metadata": {},
   "outputs": [],
   "source": [
    "#colors\n",
    "main_colour = '#8991DF'\n",
    "colour2 = '#377FA5'\n",
    "colour3 = '#4650B3'\n",
    "colour4 = '#891A99'"
   ]
  },
  {
   "cell_type": "code",
   "execution_count": 3,
   "id": "10366d1d",
   "metadata": {},
   "outputs": [],
   "source": [
    "def add_NGR(cNGR_get_text, NGR_list, df):\n",
    "    NGR = cNGR_get_text.get()\n",
    "    if df['NGR'] == NGR:\n",
    "        NGR_list.append(NGR)\n",
    "    else:\n",
    "        showinfo(title=\"Error\", message=\"NGR not present\")"
   ]
  },
  {
   "cell_type": "code",
   "execution_count": 4,
   "id": "28ba4b21",
   "metadata": {},
   "outputs": [],
   "source": [
    "def drop_NGRs():\n",
    "    print(\"NGR dropped??\")\n",
    "    showinfo(title=\"JustInfor\", message=\"just infoo\")"
   ]
  },
  {
   "cell_type": "code",
   "execution_count": 5,
   "id": "f99399d3",
   "metadata": {},
   "outputs": [],
   "source": [
    "def close_all_windows():\n",
    "    work_window.destroy()"
   ]
  },
  {
   "cell_type": "code",
   "execution_count": 6,
   "id": "e06e3b52",
   "metadata": {},
   "outputs": [
    {
     "name": "stderr",
     "output_type": "stream",
     "text": [
      "C:\\Users\\herms\\AppData\\Local\\Temp\\ipykernel_28428\\3255412101.py:1: UserWarning: Parsing dates in DD/MM/YYYY format when dayfirst=False (the default) was specified. This may lead to inconsistently parsed dates! Specify a format to ensure consistent parsing.\n",
      "  df_parameters = pd.read_json('saved_parameter.json', orient ='index')\n"
     ]
    },
    {
     "data": {
      "text/plain": [
       "''"
      ]
     },
     "execution_count": 6,
     "metadata": {},
     "output_type": "execute_result"
    }
   ],
   "source": [
    "\n",
    "    df_parameters = pd.read_json('saved_parameter.json', orient ='index')\n",
    "    df_antenna = pd.read_json('saved_antenna.json', orient ='index')\n",
    "\n",
    "    work_window = tk.Tk()\n",
    "    work_window.title(\"Work Window\")\n",
    "    work_window_width = work_window.winfo_screenwidth()\n",
    "    work_window_height = work_window.winfo_screenheight()\n",
    "    work_window.geometry(\"%dx%d\" % (work_window_width, work_window_height))\n",
    "    work_window.resizable(True, True)\n",
    "\n",
    "    # Main Layout\n",
    "    work_window.grid_rowconfigure(0, weight=1)\n",
    "    work_window.grid_columnconfigure(0, weight=1)\n",
    "    work_window.grid_columnconfigure(1, weight=2)\n",
    "\n",
    "    # LEFT FRAME\n",
    "    left_frame = tk.Frame(work_window, bg=\"white\")\n",
    "    left_frame.grid(row=0, column=0, sticky=\"nsew\")\n",
    "\n",
    "    # RIGHT FRAME\n",
    "    right_frame = tk.Frame(work_window, bg=colour2)\n",
    "    right_frame.grid(row=0, column=1, sticky=\"nsew\")\n",
    "\n",
    "    for i in range(10):\n",
    "        left_frame.grid_rowconfigure(i, weight=1)\n",
    "        left_frame.grid_columnconfigure(0, weight=1)\n",
    "        #left_frame.grid_columnconfigure(1, weight=1)\n",
    "\n",
    "        right_frame.grid_rowconfigure(i, weight=1)\n",
    "        right_frame.grid_columnconfigure(0, weight=1)\n",
    "        right_frame.grid_columnconfigure(1, weight=2)\n",
    "        #right_frame.grid_columnconfigure(2, weight=1)\n",
    "\n",
    "    # WINDOW ELEMENTS\n",
    "    # Left Elements\n",
    "    # Table 1\n",
    "    table1_frame = tk.Frame(left_frame, bg=colour3)\n",
    "    table1_frame.grid(row=1, column=0, sticky=\"nsew\")\n",
    "\n",
    "    # Table 2\n",
    "    table2_frame = tk.Frame(left_frame, bg=colour3)\n",
    "    table2_frame.grid(row=4, column=0, sticky=\"nsew\")\n",
    "\n",
    "    #RIGHT ELEMENTS\n",
    "    #Clean_by_NGR_Frame\n",
    "    global NGR_list\n",
    "    NGR_list = ['NZ03586532','NJ94270253','SP820141','NN11277352']\n",
    "    clean_NGR_frame = tk.Frame(right_frame, bg = colour4, bd = 5)\n",
    "    clean_NGR_frame.grid(row = 1, column=1)\n",
    "\n",
    "    clean_NGR_lf = tk.Frame(clean_NGR_frame, bg = colour4 )\n",
    "    clean_NGR_lf.grid(row=0, column=0,  sticky=\"nsew\")\n",
    "\n",
    "    clean_NGR_rf = tk.Frame(clean_NGR_frame, bg = colour4)\n",
    "    clean_NGR_rf.grid(row=0, column=1, sticky=\"nsew\" )\n",
    "\n",
    "    #configure internal grid\n",
    "    for i in range(5):\n",
    "        clean_NGR_lf.grid_rowconfigure(i, weight=1)\n",
    "        clean_NGR_lf.grid_columnconfigure(0, weight=1)\n",
    "\n",
    "        clean_NGR_rf.grid_rowconfigure(i, weight=1)\n",
    "        clean_NGR_rf.grid_columnconfigure(0, weight=1)\n",
    "        clean_NGR_rf.grid_columnconfigure(1, weight=1)\n",
    "    \n",
    "    cNGR_title_label = tk.Label(clean_NGR_lf, text = 'NGR EXCLUSION', bg = colour2, fg=\"white\")\n",
    "    cNGR_title_label.grid(row=0, column=1)\n",
    "\n",
    "    cNGR_inst_label = tk.Label(clean_NGR_lf, text = 'Enter NGR', bg = colour2, fg=\"white\")\n",
    "    cNGR_inst_label.grid(row = 2, column = 1)\n",
    "    cNGR_get_text = tk.Entry(clean_NGR_lf)\n",
    "    cNGR_get_text.grid(row = 3, column = 1)\n",
    "    cNGR_add_button = tk.Button(clean_NGR_lf, text=\"Add NGR\",command=partial(add_NGR, cNGR_get_text, NGR_list, df_antenna))\n",
    "    cNGR_add_button.grid(row =4, column = 1)\n",
    "    #Internal Right\n",
    "    cNGR_inst_label = tk.Label(clean_NGR_rf, text = 'List of dropped NGR', bg = colour2, fg=\"white\")\n",
    "    cNGR_inst_label.grid(row = 2, column = 2) \n",
    "    cNGR_list_print = tk.Text(clean_NGR_rf, height = 4, width = 20, bg = colour2)\n",
    "    for item in NGR_list:\n",
    "        cNGR_list_print.insert(tk.END, item)\n",
    "        cNGR_list_print.insert(tk.END, '\\n')\n",
    "\n",
    "    cNGR_list_print.grid(row = 3, column = 2)\n",
    "\n",
    "    cNGR_drop_button = tk.Button(clean_NGR_rf, text = 'Drop NGRs', command = drop_NGRs)\n",
    "    cNGR_drop_button.grid(row = 5, column =2)\n",
    "\n",
    "\n",
    "    work_window.protocol(\"WM_DELETE_WINDOW\", close_all_windows)"
   ]
  },
  {
   "cell_type": "code",
   "execution_count": 7,
   "id": "823a4d7e",
   "metadata": {},
   "outputs": [],
   "source": [
    "work_window.mainloop()"
   ]
  }
 ],
 "metadata": {
  "kernelspec": {
   "display_name": "Python 3 (ipykernel)",
   "language": "python",
   "name": "python3"
  },
  "language_info": {
   "codemirror_mode": {
    "name": "ipython",
    "version": 3
   },
   "file_extension": ".py",
   "mimetype": "text/x-python",
   "name": "python",
   "nbconvert_exporter": "python",
   "pygments_lexer": "ipython3",
   "version": "3.11.4"
  }
 },
 "nbformat": 4,
 "nbformat_minor": 5
}
